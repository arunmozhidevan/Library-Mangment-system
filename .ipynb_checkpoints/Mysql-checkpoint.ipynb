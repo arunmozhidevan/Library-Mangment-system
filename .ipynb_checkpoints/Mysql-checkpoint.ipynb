{
 "cells": [
  {
   "cell_type": "markdown",
   "id": "9a2dbf98-dd76-4ea6-b5cd-61d1f8111527",
   "metadata": {},
   "source": [
    "# Library Management system"
   ]
  },
  {
   "cell_type": "code",
   "execution_count": 1,
   "id": "808fc6e6-905d-48f9-b658-1882694cc317",
   "metadata": {},
   "outputs": [],
   "source": [
    "import auth\n",
    "import pandas as pd\n",
    "from mysql.connector import connect"
   ]
  },
  {
   "cell_type": "code",
   "execution_count": 121,
   "id": "b5704131-2d14-4393-8afa-ca7c9f9e729f",
   "metadata": {},
   "outputs": [],
   "source": [
    "con = connect(user=auth.user, password=auth.password, host=auth.host, database=auth.database)\n",
    "mycursor = con.cursor()"
   ]
  },
  {
   "cell_type": "markdown",
   "id": "4a0f3e0f-d239-4480-9ce5-506103b75e29",
   "metadata": {},
   "source": [
    "## Issue and Return book\n"
   ]
  },
  {
   "cell_type": "code",
   "execution_count": 55,
   "id": "e895b16e-d3df-4f9b-ae0a-1c4a2bfd57ae",
   "metadata": {},
   "outputs": [],
   "source": [
    "# issue funtion\n",
    "def issue_book():\n",
    "    query_reader = pd.read_sql_query('select * from reader',con)\n",
    "    print('Table : reader')\n",
    "    display(query_reader)\n",
    "    print('Table : books')\n",
    "    display(pd.read_sql_query('select * from books',con))\n",
    "    \n",
    "    user_id = int(input('Enter user ID : '))\n",
    "    \n",
    "    def bookids():\n",
    "        return [i for i in pd.read_sql_query('select b_id from bookissue',con).b_id]\n",
    "    \n",
    "    if user_id in query_reader['r_id'].to_list():\n",
    "        book_id = input('Enter the book id : ')\n",
    "        if int(book_id) not in bookids():\n",
    "            mycursor.execute(f'INSERT INTO bookissue VALUES({user_id},{book_id});')\n",
    "            mycursor.execute(f\"update books set b_availablity = 'Issued' where b_id = {book_id};\")\n",
    "            con.commit()\n",
    "            print('Book Successfully updated.\\n')\n",
    "        else:\n",
    "            print('Book is not available for issue.\\n')\n",
    "    else:\n",
    "        print('User not found!\\n')"
   ]
  },
  {
   "cell_type": "code",
   "execution_count": 72,
   "id": "fb96d714-0e1c-4412-b02e-eb3e3d7de4a9",
   "metadata": {},
   "outputs": [],
   "source": [
    "# return funtion\n",
    "def return_book():\n",
    "    print('Table : bookissue')\n",
    "    display(pd.read_sql_query('select * from bookissue',con))\n",
    "    \n",
    "    user_id = int(input('Enter user ID : '))\n",
    "    if user_id not in pd.read_sql_query('select * from bookissue',con)['r_id'].to_list():\n",
    "        print('User ID is wrong.\\n')\n",
    "        return None\n",
    "    \n",
    "    book_id = int(input('Enter the book id : '))\n",
    "    if book_id not in pd.read_sql_query('select * from bookissue',con)['b_id'].to_list():\n",
    "        print('Book ID is wrong.\\n')\n",
    "        return None\n",
    "\n",
    "    \n",
    "    mycursor.execute(f'DELETE from bookissue where b_id ={book_id} and r_id={user_id}')\n",
    "    mycursor.execute(f'update books set b_availablity = \\'Available\\' where b_id ={book_id}')\n",
    "    con.commit()\n",
    "    print('Book Successfully returned.\\n')"
   ]
  },
  {
   "cell_type": "markdown",
   "id": "a89fd346-93fa-4106-9565-a0ab58e57d83",
   "metadata": {},
   "source": [
    "## Viewing records of the tables"
   ]
  },
  {
   "cell_type": "code",
   "execution_count": 4,
   "id": "dcf6027e-3f96-414a-a3c4-b054122a41fc",
   "metadata": {},
   "outputs": [],
   "source": [
    "def table_books():\n",
    "    print('Table : books')\n",
    "    display(pd.read_sql_query('select * from books',con))"
   ]
  },
  {
   "cell_type": "code",
   "execution_count": 5,
   "id": "96253918-c0d2-4bd1-b4ba-ef671411ffe5",
   "metadata": {},
   "outputs": [],
   "source": [
    "def table_reader():\n",
    "    print('Table : reader')\n",
    "    display(pd.read_sql_query('select * from reader',con))    "
   ]
  },
  {
   "cell_type": "code",
   "execution_count": 6,
   "id": "c86b3f5a-e242-4864-ad14-85fc8ba8677b",
   "metadata": {},
   "outputs": [],
   "source": [
    "def table_bookissue():\n",
    "    print('Table : bookissue')\n",
    "    display(pd.read_sql_query('select * from bookissue',con))"
   ]
  },
  {
   "cell_type": "markdown",
   "id": "ddadc1d1-f6d3-42c6-96ee-74a1895e5d63",
   "metadata": {},
   "source": [
    "## Upload records in the table"
   ]
  },
  {
   "cell_type": "code",
   "execution_count": 102,
   "id": "872287e8-1a16-49b3-a51e-2f658ddad79c",
   "metadata": {},
   "outputs": [],
   "source": [
    "def add_new_reader():\n",
    "    display(pd.read_sql_query('select * from reader',con)) \n",
    "    reader_id, reader_name = int(pd.read_sql_query('select r_id from reader order by r_id desc limit 1',con).values[0][0]) + 1, input('Enter name of the reader : ')\n",
    "    try:\n",
    "        mycursor.execute(f'insert into reader values({reader_id},\\'{reader_name}\\');'); con.commit()\n",
    "        print(f'Successfully added the book {reader_name} to table reader.\\n')\n",
    "    except:\n",
    "        print('Update failed!\\n')"
   ]
  },
  {
   "cell_type": "code",
   "execution_count": 105,
   "id": "75954c77-2149-46c2-8b33-81a4508d73d8",
   "metadata": {},
   "outputs": [],
   "source": [
    "def add_new_book():\n",
    "    display(pd.read_sql_query('select * from books',con))\n",
    "    b_id = int(pd.read_sql_query('select b_id from books order by b_id desc limit 1', con).values[0][0]) + 1\n",
    "    b_name = input('Enter the name of the book : ')\n",
    "    b_author = input('Enter the name of the Author : ')\n",
    "    b_genre = input('Enter the name of the Genre : ')\n",
    "    try:\n",
    "        mycursor.execute(f\"insert into books values({b_id}, '{b_name}', '{b_author}', '{b_genre}', 'Available')\"); con.commit()\n",
    "        print(f'Successfully added {b_name} user to table reader.\\n')\n",
    "    except:\n",
    "        print('Update failed!\\n')"
   ]
  },
  {
   "cell_type": "markdown",
   "id": "169a816d-5e40-48b2-a270-338ee6d4844d",
   "metadata": {},
   "source": [
    "## Modify records in the tables"
   ]
  },
  {
   "cell_type": "code",
   "execution_count": 135,
   "id": "b7902c52-a0bc-4489-a41e-09157c5ae00f",
   "metadata": {},
   "outputs": [
    {
     "data": {
      "text/html": [
       "<div>\n",
       "<style scoped>\n",
       "    .dataframe tbody tr th:only-of-type {\n",
       "        vertical-align: middle;\n",
       "    }\n",
       "\n",
       "    .dataframe tbody tr th {\n",
       "        vertical-align: top;\n",
       "    }\n",
       "\n",
       "    .dataframe thead th {\n",
       "        text-align: right;\n",
       "    }\n",
       "</style>\n",
       "<table border=\"1\" class=\"dataframe\">\n",
       "  <thead>\n",
       "    <tr style=\"text-align: right;\">\n",
       "      <th></th>\n",
       "      <th>r_id</th>\n",
       "      <th>r_name</th>\n",
       "    </tr>\n",
       "  </thead>\n",
       "  <tbody>\n",
       "    <tr>\n",
       "      <th>0</th>\n",
       "      <td>1001</td>\n",
       "      <td>Arun</td>\n",
       "    </tr>\n",
       "    <tr>\n",
       "      <th>1</th>\n",
       "      <td>1002</td>\n",
       "      <td>Rick</td>\n",
       "    </tr>\n",
       "    <tr>\n",
       "      <th>2</th>\n",
       "      <td>1003</td>\n",
       "      <td>Morty</td>\n",
       "    </tr>\n",
       "    <tr>\n",
       "      <th>3</th>\n",
       "      <td>1004</td>\n",
       "      <td>Sidney</td>\n",
       "    </tr>\n",
       "  </tbody>\n",
       "</table>\n",
       "</div>"
      ],
      "text/plain": [
       "   r_id  r_name\n",
       "0  1001    Arun\n",
       "1  1002    Rick\n",
       "2  1003   Morty\n",
       "3  1004  Sidney"
      ]
     },
     "metadata": {},
     "output_type": "display_data"
    },
    {
     "name": "stdin",
     "output_type": "stream",
     "text": [
      "enter the reader id 1003\n",
      "Enter name of the reader Beth\n"
     ]
    },
    {
     "name": "stdout",
     "output_type": "stream",
     "text": [
      "Reader Successfully modified.\n",
      "\n"
     ]
    }
   ],
   "source": [
    "def modify_reader():\n",
    "    display(pd.read_sql_query('select * from reader',con))\n",
    "    modify_reader = int(input('enter the reader id'))\n",
    "    if modify_reader not in pd.read_sql_query('select * from reader',con)['r_id'].to_list():\n",
    "        print('User ID is wrong.\\n');\n",
    "        return None\n",
    "    else:\n",
    "        r_name = input('Enter new name of the reader')\n",
    "        mycursor.execute(f\"update reader set r_name = '{r_name}'where r_id = {modify_reader};\")\n",
    "        con.commit()\n",
    "        print('Reader Successfully modified.\\n')"
   ]
  },
  {
   "cell_type": "code",
   "execution_count": 133,
   "id": "afa033bf-1157-46b8-9ac1-9515d584eace",
   "metadata": {},
   "outputs": [],
   "source": [
    "def modify_book():\n",
    "    display(pd.read_sql_query('select * from books',con))\n",
    "    modify_books = int(input('enter the book id'))\n",
    "    if modify_books not in pd.read_sql_query('select * from books',con)['b_id'].to_list():\n",
    "        print('Book ID is wrong.\\n')\n",
    "        return None\n",
    "    else:\n",
    "        b_name, b_author, b_genre = input('Enter new name of the book'),input('Enter new Author name of the book'),input('Enter new Genre of the book')\n",
    "        mycursor.execute(f\"update books set b_name = '{b_name}', b_author = '{b_author}', b_genre = '{b_genre}' where b_id = {modify_books};\")\n",
    "        con.commit()\n",
    "        print('Book Successfully modified.\\n')"
   ]
  },
  {
   "cell_type": "markdown",
   "id": "da647438-96c7-430b-a800-bd03b3e3ee05",
   "metadata": {},
   "source": [
    "## Remove records from tables"
   ]
  },
  {
   "cell_type": "code",
   "execution_count": 77,
   "id": "72a2386e-1f12-4e7a-843a-b77f78be6fbd",
   "metadata": {},
   "outputs": [],
   "source": [
    "def remove_books():\n",
    "    display(pd.read_sql_query('select * from books',con))\n",
    "    remove_books = int(input('enter the book id'))\n",
    "    user_id = int(input('Enter user ID : '))\n",
    "    if user_id not in pd.read_sql_query('select * from bookissue',con)['r_id'].to_list():\n",
    "        print('User ID is wrong.\\n')\n",
    "\n",
    "        return None\n",
    "    if remove_books not in pd.read_sql_query('select * from books',con)['b_id'].to_list():\n",
    "        print('Book ID is wrong.\\n')\n",
    "        return None\n",
    "    query = pd.read_sql_query(f'select * from books where b_id = {remove_books}',con)\n",
    "    if (query['b_availablity'] == 'Issued')[0]:\n",
    "        print('Issued book cannot be removed.\\n')\n",
    "    else:\n",
    "        mycursor.execute(f'delete from books where b_id = {remove_books}')\n",
    "        con.commit()\n",
    "        print('Book Successfully Deleted.\\n')"
   ]
  },
  {
   "cell_type": "code",
   "execution_count": 96,
   "id": "120c03ad-b68b-4010-a074-943d84ce1465",
   "metadata": {},
   "outputs": [],
   "source": [
    "def remove_reader():\n",
    "    display(pd.read_sql_query('select * from reader',con))\n",
    "    remove_user = int(input('enter the user id'))\n",
    "    if remove_user not in pd.read_sql_query('select * from reader',con)['r_id'].to_list():\n",
    "        print('User ID is wrong.\\n')\n",
    "        return None\n",
    "    if remove_user in pd.read_sql_query(f'select r_id from bookissue',con)['r_id'].to_list():\n",
    "        print('User cannot be removed before returning the book.\\n')\n",
    "    else:\n",
    "        mycursor.execute(f'delete from reader where r_id = {remove_user}');con.commit()\n",
    "        print('User Successfully Deleted.\\n')"
   ]
  },
  {
   "cell_type": "markdown",
   "id": "8137f950-7c58-40a9-8461-04c2d0adfc2a",
   "metadata": {},
   "source": [
    "## Main program"
   ]
  },
  {
   "cell_type": "code",
   "execution_count": 164,
   "id": "befbcad2-4d88-4340-85aa-d4f294a6959a",
   "metadata": {},
   "outputs": [],
   "source": [
    "def select_table(fn1, fn2, fn3=None):\n",
    "    print([f'Please select a table :\\n1. Books\\n2. Reader' if fn3==None  else f'Please select a table :\\n1. Books\\n2. Reader\\n3. Bookissue'][0])\n",
    "    user_input_remove = input()\n",
    "    if user_input_remove == '1': fn1()\n",
    "    elif user_input_remove == '2': fn2()\n",
    "    elif user_input_remove == '3': fn3()\n",
    "    else: print('Wrong option!.\\n')"
   ]
  },
  {
   "cell_type": "code",
   "execution_count": 118,
   "id": "b3c6627d-3e4a-4aee-9178-0851dc7b6846",
   "metadata": {},
   "outputs": [
    {
     "name": "stdout",
     "output_type": "stream",
     "text": [
      "Welcome to the Library managment system\n",
      "\n",
      "Please choose an option from below menu:\n",
      "1. Issue a book\n",
      "2. Return a book\n",
      "3. View records\n",
      "4. Update records\n",
      "5. Remove records\n",
      "6. Exit\n",
      "\n"
     ]
    },
    {
     "name": "stdin",
     "output_type": "stream",
     "text": [
      " 3\n"
     ]
    },
    {
     "name": "stdout",
     "output_type": "stream",
     "text": [
      "Records tables : \n",
      "1 Bookissue\n",
      "2 Books\n",
      "3 Reader\n",
      "\n"
     ]
    },
    {
     "name": "stdin",
     "output_type": "stream",
     "text": [
      "Please type the name of a table to view 2\n"
     ]
    },
    {
     "name": "stdout",
     "output_type": "stream",
     "text": [
      "Table : books\n"
     ]
    },
    {
     "data": {
      "text/html": [
       "<div>\n",
       "<style scoped>\n",
       "    .dataframe tbody tr th:only-of-type {\n",
       "        vertical-align: middle;\n",
       "    }\n",
       "\n",
       "    .dataframe tbody tr th {\n",
       "        vertical-align: top;\n",
       "    }\n",
       "\n",
       "    .dataframe thead th {\n",
       "        text-align: right;\n",
       "    }\n",
       "</style>\n",
       "<table border=\"1\" class=\"dataframe\">\n",
       "  <thead>\n",
       "    <tr style=\"text-align: right;\">\n",
       "      <th></th>\n",
       "      <th>b_id</th>\n",
       "      <th>b_name</th>\n",
       "      <th>b_author</th>\n",
       "      <th>b_genre</th>\n",
       "      <th>b_availablity</th>\n",
       "    </tr>\n",
       "  </thead>\n",
       "  <tbody>\n",
       "    <tr>\n",
       "      <th>0</th>\n",
       "      <td>1</td>\n",
       "      <td>Harry Potter and the Deathly Hallows</td>\n",
       "      <td>J. K. Rowling</td>\n",
       "      <td>Fantasy</td>\n",
       "      <td>Available</td>\n",
       "    </tr>\n",
       "    <tr>\n",
       "      <th>1</th>\n",
       "      <td>2</td>\n",
       "      <td>Harry Potter and the Prisoner of Azkaban</td>\n",
       "      <td>J. K. Rowling</td>\n",
       "      <td>Fantasy</td>\n",
       "      <td>Issued</td>\n",
       "    </tr>\n",
       "    <tr>\n",
       "      <th>2</th>\n",
       "      <td>3</td>\n",
       "      <td>Harry Potter and the Philosopher's Stone</td>\n",
       "      <td>J. K. Rowling</td>\n",
       "      <td>Fantasy</td>\n",
       "      <td>Available</td>\n",
       "    </tr>\n",
       "    <tr>\n",
       "      <th>3</th>\n",
       "      <td>4</td>\n",
       "      <td>Harry Potter and the Goblet of Fire</td>\n",
       "      <td>J. K. Rowling</td>\n",
       "      <td>Fantasy</td>\n",
       "      <td>Available</td>\n",
       "    </tr>\n",
       "    <tr>\n",
       "      <th>4</th>\n",
       "      <td>5</td>\n",
       "      <td>Blood of Elves</td>\n",
       "      <td>Andrzej Sapkowski</td>\n",
       "      <td>Fantasy</td>\n",
       "      <td>Issued</td>\n",
       "    </tr>\n",
       "    <tr>\n",
       "      <th>5</th>\n",
       "      <td>6</td>\n",
       "      <td>Time of Contempt</td>\n",
       "      <td>Andrzej Sapkowski</td>\n",
       "      <td>Fantasy</td>\n",
       "      <td>Available</td>\n",
       "    </tr>\n",
       "    <tr>\n",
       "      <th>6</th>\n",
       "      <td>7</td>\n",
       "      <td>Baptism of Fire</td>\n",
       "      <td>Andrzej Sapkowski</td>\n",
       "      <td>Fantasy</td>\n",
       "      <td>Available</td>\n",
       "    </tr>\n",
       "    <tr>\n",
       "      <th>7</th>\n",
       "      <td>8</td>\n",
       "      <td>The Tower of the Swallow</td>\n",
       "      <td>Andrzej Sapkowski</td>\n",
       "      <td>Fantasy</td>\n",
       "      <td>Issued</td>\n",
       "    </tr>\n",
       "    <tr>\n",
       "      <th>8</th>\n",
       "      <td>9</td>\n",
       "      <td>To Kill a Mockingbird</td>\n",
       "      <td>Harper Lee</td>\n",
       "      <td>Southern Gothic</td>\n",
       "      <td>Available</td>\n",
       "    </tr>\n",
       "  </tbody>\n",
       "</table>\n",
       "</div>"
      ],
      "text/plain": [
       "   b_id                                    b_name           b_author  \\\n",
       "0     1      Harry Potter and the Deathly Hallows      J. K. Rowling   \n",
       "1     2  Harry Potter and the Prisoner of Azkaban      J. K. Rowling   \n",
       "2     3  Harry Potter and the Philosopher's Stone      J. K. Rowling   \n",
       "3     4       Harry Potter and the Goblet of Fire      J. K. Rowling   \n",
       "4     5                            Blood of Elves  Andrzej Sapkowski   \n",
       "5     6                         Time of Contempt   Andrzej Sapkowski   \n",
       "6     7                          Baptism of Fire   Andrzej Sapkowski   \n",
       "7     8                  The Tower of the Swallow  Andrzej Sapkowski   \n",
       "8     9                     To Kill a Mockingbird         Harper Lee   \n",
       "\n",
       "           b_genre b_availablity  \n",
       "0          Fantasy     Available  \n",
       "1          Fantasy        Issued  \n",
       "2          Fantasy     Available  \n",
       "3          Fantasy     Available  \n",
       "4          Fantasy        Issued  \n",
       "5          Fantasy     Available  \n",
       "6          Fantasy     Available  \n",
       "7          Fantasy        Issued  \n",
       "8  Southern Gothic     Available  "
      ]
     },
     "metadata": {},
     "output_type": "display_data"
    },
    {
     "name": "stdout",
     "output_type": "stream",
     "text": [
      "Welcome to the Library managment system\n",
      "\n",
      "Please choose an option from below menu:\n",
      "1. Issue a book\n",
      "2. Return a book\n",
      "3. View records\n",
      "4. Update records\n",
      "5. Remove records\n",
      "6. Exit\n",
      "\n"
     ]
    },
    {
     "name": "stdin",
     "output_type": "stream",
     "text": [
      " 6\n"
     ]
    }
   ],
   "source": [
    "while(True):\n",
    "    print('Welcome to the Library managment system')\n",
    "    # remove\n",
    "    con = connect(user=auth.user, password=auth.password, host=auth.host, database=auth.database); mycursor = con.cursor()\n",
    "    print('''\\nPlease choose an option from below menu:\\n1. Issue a book\\n2. Return a book\\n3. View records\\n4. Upload records\\n5. Remove records\\n6. Modify records\\n7. Exit\\n''')\n",
    "\n",
    "    try: user_input = int(input())\n",
    "    except: print('Entered input is not a number please try again.\\n')\n",
    "    \n",
    "    # Issue a book\n",
    "    if user_input == 1: issue_book()\n",
    "        \n",
    "    # Return a book\n",
    "    elif user_input == 2: return_book()\n",
    "        \n",
    "    # View records\n",
    "    elif user_input == 3: select_table(table_books, table_reader, table_bookissue,)\n",
    "\n",
    "    #  Update records\n",
    "    elif user_input == 4: select_table(add_new_book,add_new_reader)\n",
    "\n",
    "    # Remove records\n",
    "    elif user_input == 5: select_table(remove_books,remove_reader)\n",
    "\n",
    "    # modify records\n",
    "    elif user_input == 6: select_table(modify_book,modify_reader)\n",
    "    \n",
    "    # exit\n",
    "    elif user_input == 7: con.close(); break"
   ]
  },
  {
   "cell_type": "code",
   "execution_count": null,
   "id": "a590e5f5-550e-477a-a0f6-84bce5dc401e",
   "metadata": {},
   "outputs": [],
   "source": []
  }
 ],
 "metadata": {
  "kernelspec": {
   "display_name": "Python 3",
   "language": "python",
   "name": "python3"
  },
  "language_info": {
   "codemirror_mode": {
    "name": "ipython",
    "version": 3
   },
   "file_extension": ".py",
   "mimetype": "text/x-python",
   "name": "python",
   "nbconvert_exporter": "python",
   "pygments_lexer": "ipython3",
   "version": "3.8.8"
  },
  "toc-autonumbering": true
 },
 "nbformat": 4,
 "nbformat_minor": 5
}
