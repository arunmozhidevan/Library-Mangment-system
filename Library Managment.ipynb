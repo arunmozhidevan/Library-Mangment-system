{
 "cells": [
  {
   "cell_type": "markdown",
   "metadata": {},
   "source": [
    "# Library Management system"
   ]
  },
  {
   "cell_type": "code",
   "execution_count": 2,
   "metadata": {},
   "outputs": [
    {
     "name": "stdout",
     "output_type": "stream",
     "text": [
      "Opened database successfully\n"
     ]
    }
   ],
   "source": [
    "# importing pandas to read the query\n",
    "import pandas as pd\n",
    "# importing sqllite3 to store the data in the tables\n",
    "import sqlite3\n",
    "con = sqlite3.connect('test.db')\n",
    "print(\"Opened database successfully\")"
   ]
  },
  {
   "cell_type": "markdown",
   "metadata": {},
   "source": [
    "### Creating tables"
   ]
  },
  {
   "cell_type": "code",
   "execution_count": 28,
   "metadata": {},
   "outputs": [
    {
     "ename": "OperationalError",
     "evalue": "database is locked",
     "output_type": "error",
     "traceback": [
      "\u001b[1;31m---------------------------------------------------------------------------\u001b[0m",
      "\u001b[1;31mOperationalError\u001b[0m                          Traceback (most recent call last)",
      "\u001b[1;32m<ipython-input-28-af05df99e3e0>\u001b[0m in \u001b[0;36m<module>\u001b[1;34m\u001b[0m\n\u001b[1;32m----> 1\u001b[1;33m \u001b[0mcon\u001b[0m\u001b[1;33m.\u001b[0m\u001b[0mexecute\u001b[0m\u001b[1;33m(\u001b[0m\u001b[1;34m'drop table books'\u001b[0m\u001b[1;33m)\u001b[0m\u001b[1;33m\u001b[0m\u001b[1;33m\u001b[0m\u001b[0m\n\u001b[0m",
      "\u001b[1;31mOperationalError\u001b[0m: database is locked"
     ]
    }
   ],
   "source": [
    "con.execute('drop table books')"
   ]
  },
  {
   "cell_type": "code",
   "execution_count": 8,
   "metadata": {},
   "outputs": [],
   "source": [
    "# creating table books\n",
    "# con.execute('''\n",
    "# create table books(\n",
    "# b_id int primary key,\n",
    "# b_name varchar(50),\n",
    "# b_author varchar(25),\n",
    "# b_genre varchar(25),\n",
    "# b_availablity varchar(25)\n",
    "# )\n",
    "# ''')"
   ]
  },
  {
   "cell_type": "code",
   "execution_count": 10,
   "metadata": {},
   "outputs": [],
   "source": [
    "# creating a new table reader\n",
    "# con.execute('''\n",
    "# create table reader(\n",
    "# r_id int primary key,\n",
    "# r_name varchar(25)\n",
    "# );\n",
    "# ''')"
   ]
  },
  {
   "cell_type": "code",
   "execution_count": 11,
   "metadata": {},
   "outputs": [],
   "source": [
    "# creating a new table bookissued\n",
    "# con.execute('''\n",
    "# create table bookissued(\n",
    "# r_id references reader(r_id),\n",
    "# b_id references books(b_id)\n",
    "# );\n",
    "# ''')"
   ]
  },
  {
   "cell_type": "code",
   "execution_count": 14,
   "metadata": {},
   "outputs": [
    {
     "name": "stdout",
     "output_type": "stream",
     "text": [
      "books\n",
      "reader\n",
      "bookissued\n"
     ]
    }
   ],
   "source": [
    "cursor = con.cursor()\n",
    "cursor.execute(\"SELECT name FROM sqlite_master WHERE type='table';\")\n",
    "for i in cursor.fetchall():\n",
    "    print(i[0])"
   ]
  },
  {
   "cell_type": "code",
   "execution_count": 16,
   "metadata": {},
   "outputs": [],
   "source": [
    "def showall_tables():\n",
    "    cursor = con.cursor()\n",
    "    cursor.execute(\"SELECT name FROM sqlite_master WHERE type='table';\")\n",
    "    for i in cursor.fetchall():\n",
    "        print(i[0])"
   ]
  },
  {
   "cell_type": "markdown",
   "metadata": {},
   "source": [
    "### Inserting initial records to tables"
   ]
  },
  {
   "cell_type": "code",
   "execution_count": 13,
   "metadata": {},
   "outputs": [
    {
     "data": {
      "text/plain": [
       "<sqlite3.Cursor at 0x1bcf904dea0>"
      ]
     },
     "execution_count": 13,
     "metadata": {},
     "output_type": "execute_result"
    }
   ],
   "source": [
    "# inserting data into the table books\n",
    "con.execute('''\n",
    "INSERT INTO books\n",
    "values\n",
    "(3, 'Harry Potter and the Philosopher Stone', 'J. K. Rowling', 'Fantasy', 'Available'),\n",
    "(4, 'Harry Potter and the Goblet of Fire', 'J. K. Rowling', 'Fantasy', 'Available'),\n",
    "(5, 'Blood of Elves', 'Andrzej Sapkowski', 'Fantasy', 'Issued'),\n",
    "(6, 'Time of Contempt ', 'Andrzej Sapkowski', 'Fantasy', 'Available'),\n",
    "(7, 'Baptism of Fire ', 'Andrzej Sapkowski', 'Fantasy', 'Available'),\n",
    "(8, 'The Tower of the Swallow', 'Andrzej Sapkowski', 'Fantasy', 'Issued'),\n",
    "(9, 'The Lady of the Lake', 'Andrzej Sapkowski', 'Fantasy', 'Issued')\n",
    "''')\n",
    "con.commit()"
   ]
  },
  {
   "cell_type": "code",
   "execution_count": null,
   "metadata": {},
   "outputs": [],
   "source": [
    "# inserting data into the table reader\n",
    "con.execute('''\n",
    "insert into reader values\n",
    "(1001,'Arun'),\n",
    "(1002,'Rick'),\n",
    "(1003,'Morty'),\n",
    "(1004,'Summer');\n",
    "''')\n",
    "con.commit()"
   ]
  },
  {
   "cell_type": "code",
   "execution_count": null,
   "metadata": {},
   "outputs": [],
   "source": [
    "# inserting data into the table bookissued\n",
    "con.execute(f'''\n",
    "insert into bookissued values\n",
    "(1001,8),\n",
    "(1002,2),\n",
    "(1003,9),\n",
    "(1004,5),\n",
    "(1001,4)\n",
    "''')\n",
    "con.commit()"
   ]
  },
  {
   "cell_type": "markdown",
   "metadata": {},
   "source": [
    "### Viewing records of the tables"
   ]
  },
  {
   "cell_type": "code",
   "execution_count": 4,
   "metadata": {},
   "outputs": [],
   "source": [
    "def table_books():\n",
    "    print('Table : books')\n",
    "    display(pd.read_sql_query('select * from books',con))"
   ]
  },
  {
   "cell_type": "code",
   "execution_count": 77,
   "metadata": {},
   "outputs": [
    {
     "name": "stdout",
     "output_type": "stream",
     "text": [
      "Table : books\n"
     ]
    },
    {
     "data": {
      "text/html": [
       "<div>\n",
       "<style scoped>\n",
       "    .dataframe tbody tr th:only-of-type {\n",
       "        vertical-align: middle;\n",
       "    }\n",
       "\n",
       "    .dataframe tbody tr th {\n",
       "        vertical-align: top;\n",
       "    }\n",
       "\n",
       "    .dataframe thead th {\n",
       "        text-align: right;\n",
       "    }\n",
       "</style>\n",
       "<table border=\"1\" class=\"dataframe\">\n",
       "  <thead>\n",
       "    <tr style=\"text-align: right;\">\n",
       "      <th></th>\n",
       "      <th>b_id</th>\n",
       "      <th>b_name</th>\n",
       "      <th>b_author</th>\n",
       "      <th>b_genre</th>\n",
       "      <th>b_availablity</th>\n",
       "    </tr>\n",
       "  </thead>\n",
       "  <tbody>\n",
       "    <tr>\n",
       "      <th>0</th>\n",
       "      <td>3</td>\n",
       "      <td>Harry Potter and the Philosopher Stone</td>\n",
       "      <td>J. K. Rowling</td>\n",
       "      <td>Fantasy</td>\n",
       "      <td>Available</td>\n",
       "    </tr>\n",
       "    <tr>\n",
       "      <th>1</th>\n",
       "      <td>4</td>\n",
       "      <td>Harry Potter and the Goblet of Fire</td>\n",
       "      <td>J. K. Rowling</td>\n",
       "      <td>Fantasy</td>\n",
       "      <td>Issued</td>\n",
       "    </tr>\n",
       "    <tr>\n",
       "      <th>2</th>\n",
       "      <td>5</td>\n",
       "      <td>Blood of Elves</td>\n",
       "      <td>Andrzej Sapkowski</td>\n",
       "      <td>Fantasy</td>\n",
       "      <td>Issued</td>\n",
       "    </tr>\n",
       "    <tr>\n",
       "      <th>3</th>\n",
       "      <td>6</td>\n",
       "      <td>Time of Contempt</td>\n",
       "      <td>Andrzej Sapkowski</td>\n",
       "      <td>Fantasy</td>\n",
       "      <td>Available</td>\n",
       "    </tr>\n",
       "    <tr>\n",
       "      <th>4</th>\n",
       "      <td>7</td>\n",
       "      <td>Baptism of Fire</td>\n",
       "      <td>Andrzej Sapkowski</td>\n",
       "      <td>Fantasy</td>\n",
       "      <td>Available</td>\n",
       "    </tr>\n",
       "    <tr>\n",
       "      <th>5</th>\n",
       "      <td>8</td>\n",
       "      <td>The Tower of the Swallow</td>\n",
       "      <td>Andrzej Sapkowski</td>\n",
       "      <td>Fantasy</td>\n",
       "      <td>Issued</td>\n",
       "    </tr>\n",
       "    <tr>\n",
       "      <th>6</th>\n",
       "      <td>9</td>\n",
       "      <td>The Lady of the Lake</td>\n",
       "      <td>Andrzej Sapkowski</td>\n",
       "      <td>Fantasy</td>\n",
       "      <td>Issued</td>\n",
       "    </tr>\n",
       "    <tr>\n",
       "      <th>7</th>\n",
       "      <td>10</td>\n",
       "      <td>The Hunger Games</td>\n",
       "      <td>Suzanne Collins</td>\n",
       "      <td>Science fiction</td>\n",
       "      <td>Available</td>\n",
       "    </tr>\n",
       "  </tbody>\n",
       "</table>\n",
       "</div>"
      ],
      "text/plain": [
       "   b_id                                  b_name           b_author  \\\n",
       "0     3  Harry Potter and the Philosopher Stone      J. K. Rowling   \n",
       "1     4     Harry Potter and the Goblet of Fire      J. K. Rowling   \n",
       "2     5                          Blood of Elves  Andrzej Sapkowski   \n",
       "3     6                       Time of Contempt   Andrzej Sapkowski   \n",
       "4     7                        Baptism of Fire   Andrzej Sapkowski   \n",
       "5     8                The Tower of the Swallow  Andrzej Sapkowski   \n",
       "6     9                    The Lady of the Lake  Andrzej Sapkowski   \n",
       "7    10                        The Hunger Games    Suzanne Collins   \n",
       "\n",
       "           b_genre b_availablity  \n",
       "0          Fantasy     Available  \n",
       "1          Fantasy        Issued  \n",
       "2          Fantasy        Issued  \n",
       "3          Fantasy     Available  \n",
       "4          Fantasy     Available  \n",
       "5          Fantasy        Issued  \n",
       "6          Fantasy        Issued  \n",
       "7  Science fiction     Available  "
      ]
     },
     "execution_count": 77,
     "metadata": {},
     "output_type": "execute_result"
    }
   ],
   "source": [
    "print('Table : books')\n",
    "pd.read_sql_query('select * from books',con)"
   ]
  },
  {
   "cell_type": "code",
   "execution_count": 5,
   "metadata": {},
   "outputs": [],
   "source": [
    "def table_reader():\n",
    "    print('Table : reader')\n",
    "    display(pd.read_sql_query('select * from reader',con))    "
   ]
  },
  {
   "cell_type": "code",
   "execution_count": 70,
   "metadata": {},
   "outputs": [
    {
     "name": "stdout",
     "output_type": "stream",
     "text": [
      "Table : reader\n"
     ]
    },
    {
     "data": {
      "text/html": [
       "<div>\n",
       "<style scoped>\n",
       "    .dataframe tbody tr th:only-of-type {\n",
       "        vertical-align: middle;\n",
       "    }\n",
       "\n",
       "    .dataframe tbody tr th {\n",
       "        vertical-align: top;\n",
       "    }\n",
       "\n",
       "    .dataframe thead th {\n",
       "        text-align: right;\n",
       "    }\n",
       "</style>\n",
       "<table border=\"1\" class=\"dataframe\">\n",
       "  <thead>\n",
       "    <tr style=\"text-align: right;\">\n",
       "      <th></th>\n",
       "      <th>r_id</th>\n",
       "      <th>r_name</th>\n",
       "    </tr>\n",
       "  </thead>\n",
       "  <tbody>\n",
       "    <tr>\n",
       "      <th>0</th>\n",
       "      <td>1001</td>\n",
       "      <td>Arun</td>\n",
       "    </tr>\n",
       "    <tr>\n",
       "      <th>1</th>\n",
       "      <td>1002</td>\n",
       "      <td>Rick</td>\n",
       "    </tr>\n",
       "    <tr>\n",
       "      <th>2</th>\n",
       "      <td>1003</td>\n",
       "      <td>Morty</td>\n",
       "    </tr>\n",
       "    <tr>\n",
       "      <th>3</th>\n",
       "      <td>1004</td>\n",
       "      <td>Summer</td>\n",
       "    </tr>\n",
       "    <tr>\n",
       "      <th>4</th>\n",
       "      <td>1005</td>\n",
       "      <td>Jerry</td>\n",
       "    </tr>\n",
       "  </tbody>\n",
       "</table>\n",
       "</div>"
      ],
      "text/plain": [
       "   r_id  r_name\n",
       "0  1001    Arun\n",
       "1  1002    Rick\n",
       "2  1003   Morty\n",
       "3  1004  Summer\n",
       "4  1005   Jerry"
      ]
     },
     "execution_count": 70,
     "metadata": {},
     "output_type": "execute_result"
    }
   ],
   "source": [
    "print('Table : reader')\n",
    "pd.read_sql_query('select * from reader',con)"
   ]
  },
  {
   "cell_type": "code",
   "execution_count": 6,
   "metadata": {},
   "outputs": [],
   "source": [
    "def table_bookissued():\n",
    "    print('Table : bookissued')\n",
    "    display(pd.read_sql_query('select * from bookissued',con))"
   ]
  },
  {
   "cell_type": "code",
   "execution_count": 74,
   "metadata": {},
   "outputs": [
    {
     "name": "stdout",
     "output_type": "stream",
     "text": [
      "Table : bookissued\n"
     ]
    },
    {
     "data": {
      "text/html": [
       "<div>\n",
       "<style scoped>\n",
       "    .dataframe tbody tr th:only-of-type {\n",
       "        vertical-align: middle;\n",
       "    }\n",
       "\n",
       "    .dataframe tbody tr th {\n",
       "        vertical-align: top;\n",
       "    }\n",
       "\n",
       "    .dataframe thead th {\n",
       "        text-align: right;\n",
       "    }\n",
       "</style>\n",
       "<table border=\"1\" class=\"dataframe\">\n",
       "  <thead>\n",
       "    <tr style=\"text-align: right;\">\n",
       "      <th></th>\n",
       "      <th>r_id</th>\n",
       "      <th>b_id</th>\n",
       "    </tr>\n",
       "  </thead>\n",
       "  <tbody>\n",
       "    <tr>\n",
       "      <th>0</th>\n",
       "      <td>1001</td>\n",
       "      <td>8</td>\n",
       "    </tr>\n",
       "    <tr>\n",
       "      <th>1</th>\n",
       "      <td>1002</td>\n",
       "      <td>2</td>\n",
       "    </tr>\n",
       "    <tr>\n",
       "      <th>2</th>\n",
       "      <td>1003</td>\n",
       "      <td>9</td>\n",
       "    </tr>\n",
       "    <tr>\n",
       "      <th>3</th>\n",
       "      <td>1004</td>\n",
       "      <td>5</td>\n",
       "    </tr>\n",
       "    <tr>\n",
       "      <th>4</th>\n",
       "      <td>1001</td>\n",
       "      <td>4</td>\n",
       "    </tr>\n",
       "  </tbody>\n",
       "</table>\n",
       "</div>"
      ],
      "text/plain": [
       "   r_id  b_id\n",
       "0  1001     8\n",
       "1  1002     2\n",
       "2  1003     9\n",
       "3  1004     5\n",
       "4  1001     4"
      ]
     },
     "execution_count": 74,
     "metadata": {},
     "output_type": "execute_result"
    }
   ],
   "source": [
    "print('Table : bookissued')\n",
    "pd.read_sql_query('select * from bookissued',con)"
   ]
  },
  {
   "cell_type": "markdown",
   "metadata": {},
   "source": [
    "### Updating records in the table"
   ]
  },
  {
   "cell_type": "code",
   "execution_count": 7,
   "metadata": {},
   "outputs": [],
   "source": [
    "def add_new_reader():\n",
    "    reader_id, reader_name = int(pd.read_sql_query('select r_id from reader order by r_id desc limit 1',con).values[0][0]) + 1, input('Enter name of the reader : ')\n",
    "    try:\n",
    "        con.execute(f'insert into reader values({reader_id},\\'{reader_name}\\');')\n",
    "        con.commit()\n",
    "        print(f'Successfully {reader_name} added to table reader')\n",
    "    except:\n",
    "        print('Update unsuccessfull!')"
   ]
  },
  {
   "cell_type": "code",
   "execution_count": 69,
   "metadata": {},
   "outputs": [
    {
     "name": "stdout",
     "output_type": "stream",
     "text": [
      "Enter name of the reader : Jerry\n",
      "Successfully Jerry added to table reader\n"
     ]
    }
   ],
   "source": [
    "# add new reader\n",
    "reader_id, reader_name = int(pd.read_sql_query('select r_id from reader order by r_id desc limit 1',con).values[0][0]) + 1, input('Enter name of the reader : ')\n",
    "try:\n",
    "    con.execute(f'insert into reader values({reader_id},\\'{reader_name}\\');')\n",
    "    con.commit()\n",
    "    print(f'Successfully {reader_name} added to table reader')\n",
    "except:\n",
    "    print('Update unsuccessfull!')"
   ]
  },
  {
   "cell_type": "code",
   "execution_count": 71,
   "metadata": {},
   "outputs": [
    {
     "name": "stdout",
     "output_type": "stream",
     "text": [
      "Enter the name of the book : The Hunger Games\n",
      "Enter the name of the Author : Suzanne Collins\n",
      "Enter the name of the Genre : Science fiction\n"
     ]
    }
   ],
   "source": [
    "# add new book\n",
    "b_id = int(pd.read_sql_query('select b_id from books order by b_id desc limit 1', con).values[0][0]) + 1\n",
    "b_name = input('Enter the name of the book : ')\n",
    "b_author = input('Enter the name of the Author : ')\n",
    "b_genre = input('Enter the name of the Genre : ')\n",
    "try:\n",
    "    con.execute(f\"insert into books values({b_id}, '{b_name}', '{b_author}', '{b_genre}', 'Available')\")\n",
    "    con.commit()\n",
    "    print(f'Successfully {b_name} added to table books')\n",
    "else:\n",
    "    print('Update unsuccessfull!')"
   ]
  },
  {
   "cell_type": "code",
   "execution_count": 75,
   "metadata": {},
   "outputs": [],
   "source": [
    "# reading the query using .read_sql_query\n",
    "data = pd.read_sql_query('select * from books',con)"
   ]
  },
  {
   "cell_type": "code",
   "execution_count": 76,
   "metadata": {},
   "outputs": [
    {
     "name": "stdout",
     "output_type": "stream",
     "text": [
      "Enter the name of the book : harry\n",
      "Book id : 3,  Name : Harry Potter and the Philosopher Stone\n",
      "Book id : 4,  Name : Harry Potter and the Goblet of Fire\n"
     ]
    }
   ],
   "source": [
    "# search books\n",
    "search_books = input('Enter the name of the book : ')\n",
    "for i in [f'Book id : {i},  Name : {j}' for i,j in zip(data.b_id,data.b_name) if search_books.lower() in j.lower()]:\n",
    "    print(i)"
   ]
  },
  {
   "cell_type": "code",
   "execution_count": 19,
   "metadata": {},
   "outputs": [
    {
     "name": "stdout",
     "output_type": "stream",
     "text": [
      "Enter the book id : 4\n"
     ]
    },
    {
     "data": {
      "text/html": [
       "<div>\n",
       "<style scoped>\n",
       "    .dataframe tbody tr th:only-of-type {\n",
       "        vertical-align: middle;\n",
       "    }\n",
       "\n",
       "    .dataframe tbody tr th {\n",
       "        vertical-align: top;\n",
       "    }\n",
       "\n",
       "    .dataframe thead th {\n",
       "        text-align: right;\n",
       "    }\n",
       "</style>\n",
       "<table border=\"1\" class=\"dataframe\">\n",
       "  <thead>\n",
       "    <tr style=\"text-align: right;\">\n",
       "      <th></th>\n",
       "      <th>b_id</th>\n",
       "      <th>b_name</th>\n",
       "      <th>b_author</th>\n",
       "      <th>b_genre</th>\n",
       "      <th>b_availablity</th>\n",
       "    </tr>\n",
       "  </thead>\n",
       "  <tbody>\n",
       "    <tr>\n",
       "      <th>0</th>\n",
       "      <td>4</td>\n",
       "      <td>Harry Potter and the Goblet of Fire</td>\n",
       "      <td>J. K. Rowling</td>\n",
       "      <td>Fantasy</td>\n",
       "      <td>Issued</td>\n",
       "    </tr>\n",
       "  </tbody>\n",
       "</table>\n",
       "</div>"
      ],
      "text/plain": [
       "   b_id                               b_name       b_author  b_genre  \\\n",
       "0     4  Harry Potter and the Goblet of Fire  J. K. Rowling  Fantasy   \n",
       "\n",
       "  b_availablity  \n",
       "0        Issued  "
      ]
     },
     "metadata": {},
     "output_type": "display_data"
    }
   ],
   "source": [
    "# selecting the book id\n",
    "search_id = int(input('Enter the book id : '))\n",
    "search_pd_book = pd.read_sql_query(f'select * from books where b_id = {search_id}',con)\n",
    "\n",
    "if len(search_pd_book):\n",
    "    display(search_pd_book)\n",
    "else:\n",
    "    print('No records found!')"
   ]
  },
  {
   "cell_type": "code",
   "execution_count": 28,
   "metadata": {},
   "outputs": [
    {
     "name": "stdout",
     "output_type": "stream",
     "text": [
      "Enter the name of the book : 4\n",
      "Book is issued!\n"
     ]
    },
    {
     "data": {
      "text/html": [
       "<div>\n",
       "<style scoped>\n",
       "    .dataframe tbody tr th:only-of-type {\n",
       "        vertical-align: middle;\n",
       "    }\n",
       "\n",
       "    .dataframe tbody tr th {\n",
       "        vertical-align: top;\n",
       "    }\n",
       "\n",
       "    .dataframe thead th {\n",
       "        text-align: right;\n",
       "    }\n",
       "</style>\n",
       "<table border=\"1\" class=\"dataframe\">\n",
       "  <thead>\n",
       "    <tr style=\"text-align: right;\">\n",
       "      <th></th>\n",
       "      <th>b_id</th>\n",
       "      <th>r_id</th>\n",
       "      <th>r_name</th>\n",
       "    </tr>\n",
       "  </thead>\n",
       "  <tbody>\n",
       "    <tr>\n",
       "      <th>0</th>\n",
       "      <td>4</td>\n",
       "      <td>1001</td>\n",
       "      <td>Arun</td>\n",
       "    </tr>\n",
       "  </tbody>\n",
       "</table>\n",
       "</div>"
      ],
      "text/plain": [
       "   b_id  r_id r_name\n",
       "0     4  1001   Arun"
      ]
     },
     "metadata": {},
     "output_type": "display_data"
    }
   ],
   "source": [
    "# search who's having the book\n",
    "search_book_reader = input('Enter the name of the book : ')\n",
    "search_pd_reader = pd.read_sql_query(f'''\n",
    "select bookissued.b_id, reader.r_id, reader.r_name \n",
    "from bookissued inner join reader \n",
    "on bookissued.r_id=reader.r_id \n",
    "where bookissued.b_id = {search_book_reader}\n",
    "''',con)\n",
    "\n",
    "if len(search_pd_reader):\n",
    "    print('Book is issued!')\n",
    "    display(search_pd_reader)\n",
    "else:\n",
    "    print('Book is Available!')"
   ]
  },
  {
   "cell_type": "code",
   "execution_count": 43,
   "metadata": {},
   "outputs": [
    {
     "data": {
      "text/html": [
       "<div>\n",
       "<style scoped>\n",
       "    .dataframe tbody tr th:only-of-type {\n",
       "        vertical-align: middle;\n",
       "    }\n",
       "\n",
       "    .dataframe tbody tr th {\n",
       "        vertical-align: top;\n",
       "    }\n",
       "\n",
       "    .dataframe thead th {\n",
       "        text-align: right;\n",
       "    }\n",
       "</style>\n",
       "<table border=\"1\" class=\"dataframe\">\n",
       "  <thead>\n",
       "    <tr style=\"text-align: right;\">\n",
       "      <th></th>\n",
       "      <th>b_id</th>\n",
       "      <th>r_id</th>\n",
       "      <th>r_name</th>\n",
       "    </tr>\n",
       "  </thead>\n",
       "  <tbody>\n",
       "    <tr>\n",
       "      <th>0</th>\n",
       "      <td>4</td>\n",
       "      <td>1001</td>\n",
       "      <td>Arun</td>\n",
       "    </tr>\n",
       "  </tbody>\n",
       "</table>\n",
       "</div>"
      ],
      "text/plain": [
       "   b_id  r_id r_name\n",
       "0     4  1001   Arun"
      ]
     },
     "metadata": {},
     "output_type": "display_data"
    },
    {
     "name": "stdout",
     "output_type": "stream",
     "text": [
      "Book is issued!\n"
     ]
    }
   ],
   "source": [
    "print([('Book is issued!',display(search_pd_reader)) if len(search_pd_reader) else 'Book is Available!'][0][0])"
   ]
  },
  {
   "cell_type": "markdown",
   "metadata": {},
   "source": [
    "### Issue and Return book"
   ]
  },
  {
   "cell_type": "code",
   "execution_count": 8,
   "metadata": {},
   "outputs": [],
   "source": [
    "# issue book\n",
    "def issue_book():\n",
    "    user_id = input('Enter user ID : ')\n",
    "    book_id = input('Enter the book id : ')\n",
    "\n",
    "    def bookids():\n",
    "        return [i for i in pd.read_sql_query('select b_id from bookissued',con).b_id]\n",
    "\n",
    "    if int(book_id) not in bookids():\n",
    "        con.execute(f'''INSERT INTO bookissued VALUES({user_id},{book_id});''')\n",
    "        con.execute(f\"update books set b_availablity = 'Issued' where b_id = {book_id};\")\n",
    "        print('Book Successfully updated')    \n",
    "    else:\n",
    "        print('Book is not available for issue')"
   ]
  },
  {
   "cell_type": "code",
   "execution_count": 9,
   "metadata": {},
   "outputs": [],
   "source": [
    "# return book\n",
    "def return_book():\n",
    "    book_id = input('Enter the book id : ')\n",
    "    user_id = input('Enter user ID : ')\n",
    "    con.execute(f'DELETE from bookissued where b_id ={book_id} and r_id={user_id}')\n",
    "    con.execute(f'update books set b_availablity = \\'Available\\' where b_id ={book_id}')\n",
    "    con.commit()"
   ]
  },
  {
   "cell_type": "markdown",
   "metadata": {},
   "source": [
    "### Remove records from tables"
   ]
  },
  {
   "cell_type": "code",
   "execution_count": 27,
   "metadata": {},
   "outputs": [
    {
     "data": {
      "text/html": [
       "<div>\n",
       "<style scoped>\n",
       "    .dataframe tbody tr th:only-of-type {\n",
       "        vertical-align: middle;\n",
       "    }\n",
       "\n",
       "    .dataframe tbody tr th {\n",
       "        vertical-align: top;\n",
       "    }\n",
       "\n",
       "    .dataframe thead th {\n",
       "        text-align: right;\n",
       "    }\n",
       "</style>\n",
       "<table border=\"1\" class=\"dataframe\">\n",
       "  <thead>\n",
       "    <tr style=\"text-align: right;\">\n",
       "      <th></th>\n",
       "      <th>b_id</th>\n",
       "      <th>b_name</th>\n",
       "      <th>b_author</th>\n",
       "      <th>b_genre</th>\n",
       "      <th>b_availablity</th>\n",
       "    </tr>\n",
       "  </thead>\n",
       "  <tbody>\n",
       "    <tr>\n",
       "      <th>0</th>\n",
       "      <td>3</td>\n",
       "      <td>Harry Potter and the Philosopher Stone</td>\n",
       "      <td>J. K. Rowling</td>\n",
       "      <td>Fantasy</td>\n",
       "      <td>Available</td>\n",
       "    </tr>\n",
       "    <tr>\n",
       "      <th>1</th>\n",
       "      <td>4</td>\n",
       "      <td>Harry Potter and the Goblet of Fire</td>\n",
       "      <td>J. K. Rowling</td>\n",
       "      <td>Fantasy</td>\n",
       "      <td>Issued</td>\n",
       "    </tr>\n",
       "    <tr>\n",
       "      <th>2</th>\n",
       "      <td>5</td>\n",
       "      <td>Blood of Elves</td>\n",
       "      <td>Andrzej Sapkowski</td>\n",
       "      <td>Fantasy</td>\n",
       "      <td>Issued</td>\n",
       "    </tr>\n",
       "    <tr>\n",
       "      <th>3</th>\n",
       "      <td>6</td>\n",
       "      <td>Time of Contempt</td>\n",
       "      <td>Andrzej Sapkowski</td>\n",
       "      <td>Fantasy</td>\n",
       "      <td>Available</td>\n",
       "    </tr>\n",
       "    <tr>\n",
       "      <th>4</th>\n",
       "      <td>7</td>\n",
       "      <td>Baptism of Fire</td>\n",
       "      <td>Andrzej Sapkowski</td>\n",
       "      <td>Fantasy</td>\n",
       "      <td>Available</td>\n",
       "    </tr>\n",
       "    <tr>\n",
       "      <th>5</th>\n",
       "      <td>8</td>\n",
       "      <td>The Tower of the Swallow</td>\n",
       "      <td>Andrzej Sapkowski</td>\n",
       "      <td>Fantasy</td>\n",
       "      <td>Issued</td>\n",
       "    </tr>\n",
       "    <tr>\n",
       "      <th>6</th>\n",
       "      <td>9</td>\n",
       "      <td>The Lady of the Lake</td>\n",
       "      <td>Andrzej Sapkowski</td>\n",
       "      <td>Fantasy</td>\n",
       "      <td>Issued</td>\n",
       "    </tr>\n",
       "    <tr>\n",
       "      <th>7</th>\n",
       "      <td>10</td>\n",
       "      <td>The Hunger Games</td>\n",
       "      <td>Suzanne Collins</td>\n",
       "      <td>Science fiction</td>\n",
       "      <td>Available</td>\n",
       "    </tr>\n",
       "  </tbody>\n",
       "</table>\n",
       "</div>"
      ],
      "text/plain": [
       "   b_id                                  b_name           b_author  \\\n",
       "0     3  Harry Potter and the Philosopher Stone      J. K. Rowling   \n",
       "1     4     Harry Potter and the Goblet of Fire      J. K. Rowling   \n",
       "2     5                          Blood of Elves  Andrzej Sapkowski   \n",
       "3     6                       Time of Contempt   Andrzej Sapkowski   \n",
       "4     7                        Baptism of Fire   Andrzej Sapkowski   \n",
       "5     8                The Tower of the Swallow  Andrzej Sapkowski   \n",
       "6     9                    The Lady of the Lake  Andrzej Sapkowski   \n",
       "7    10                        The Hunger Games    Suzanne Collins   \n",
       "\n",
       "           b_genre b_availablity  \n",
       "0          Fantasy     Available  \n",
       "1          Fantasy        Issued  \n",
       "2          Fantasy        Issued  \n",
       "3          Fantasy     Available  \n",
       "4          Fantasy     Available  \n",
       "5          Fantasy        Issued  \n",
       "6          Fantasy        Issued  \n",
       "7  Science fiction     Available  "
      ]
     },
     "metadata": {},
     "output_type": "display_data"
    },
    {
     "name": "stdin",
     "output_type": "stream",
     "text": [
      "enter the book id 6\n"
     ]
    },
    {
     "ename": "OperationalError",
     "evalue": "database is locked",
     "output_type": "error",
     "traceback": [
      "\u001b[1;31m---------------------------------------------------------------------------\u001b[0m",
      "\u001b[1;31mOperationalError\u001b[0m                          Traceback (most recent call last)",
      "\u001b[1;32m<ipython-input-27-eb430ce7a2ef>\u001b[0m in \u001b[0;36m<module>\u001b[1;34m\u001b[0m\n\u001b[0;32m      7\u001b[0m     \u001b[0mprint\u001b[0m\u001b[1;33m(\u001b[0m\u001b[1;33m)\u001b[0m\u001b[1;33m\u001b[0m\u001b[1;33m\u001b[0m\u001b[0m\n\u001b[0;32m      8\u001b[0m \u001b[1;32melse\u001b[0m\u001b[1;33m:\u001b[0m\u001b[1;33m\u001b[0m\u001b[1;33m\u001b[0m\u001b[0m\n\u001b[1;32m----> 9\u001b[1;33m     \u001b[0mcon\u001b[0m\u001b[1;33m.\u001b[0m\u001b[0mexecute\u001b[0m\u001b[1;33m(\u001b[0m\u001b[1;34mf'delete from books where b_id = {remove_books}'\u001b[0m\u001b[1;33m)\u001b[0m\u001b[1;33m\u001b[0m\u001b[1;33m\u001b[0m\u001b[0m\n\u001b[0m\u001b[0;32m     10\u001b[0m     \u001b[0mcon\u001b[0m\u001b[1;33m.\u001b[0m\u001b[0mcommit\u001b[0m\u001b[1;33m(\u001b[0m\u001b[1;33m)\u001b[0m\u001b[1;33m\u001b[0m\u001b[1;33m\u001b[0m\u001b[0m\n\u001b[0;32m     11\u001b[0m     \u001b[0mprint\u001b[0m\u001b[1;33m(\u001b[0m\u001b[1;34m'Book Successfully Deleted'\u001b[0m\u001b[1;33m)\u001b[0m\u001b[1;33m\u001b[0m\u001b[1;33m\u001b[0m\u001b[0m\n",
      "\u001b[1;31mOperationalError\u001b[0m: database is locked"
     ]
    }
   ],
   "source": [
    "# def remove_books():\n",
    "display(pd.read_sql_query('select * from books',con))\n",
    "remove_books = input('enter the book id')\n",
    "query = pd.read_sql_query(f'select * from books where b_id = {remove_books}',con)\n",
    "if (query['b_availablity'] == 'Issued')[0]:\n",
    "    print('Issued book cannot be removed.')\n",
    "    print()\n",
    "else:\n",
    "    con.execute(f'delete from books where b_id = {remove_books}')\n",
    "    con.commit()\n",
    "    print('Book Successfully Deleted')\n",
    "    print()"
   ]
  },
  {
   "cell_type": "code",
   "execution_count": 19,
   "metadata": {},
   "outputs": [
    {
     "data": {
      "text/html": [
       "<div>\n",
       "<style scoped>\n",
       "    .dataframe tbody tr th:only-of-type {\n",
       "        vertical-align: middle;\n",
       "    }\n",
       "\n",
       "    .dataframe tbody tr th {\n",
       "        vertical-align: top;\n",
       "    }\n",
       "\n",
       "    .dataframe thead th {\n",
       "        text-align: right;\n",
       "    }\n",
       "</style>\n",
       "<table border=\"1\" class=\"dataframe\">\n",
       "  <thead>\n",
       "    <tr style=\"text-align: right;\">\n",
       "      <th></th>\n",
       "      <th>r_id</th>\n",
       "      <th>r_name</th>\n",
       "    </tr>\n",
       "  </thead>\n",
       "  <tbody>\n",
       "    <tr>\n",
       "      <th>0</th>\n",
       "      <td>1001</td>\n",
       "      <td>Arun</td>\n",
       "    </tr>\n",
       "    <tr>\n",
       "      <th>1</th>\n",
       "      <td>1002</td>\n",
       "      <td>Rick</td>\n",
       "    </tr>\n",
       "    <tr>\n",
       "      <th>2</th>\n",
       "      <td>1003</td>\n",
       "      <td>Morty</td>\n",
       "    </tr>\n",
       "    <tr>\n",
       "      <th>3</th>\n",
       "      <td>1004</td>\n",
       "      <td>Summer</td>\n",
       "    </tr>\n",
       "    <tr>\n",
       "      <th>4</th>\n",
       "      <td>1005</td>\n",
       "      <td>Jerry</td>\n",
       "    </tr>\n",
       "  </tbody>\n",
       "</table>\n",
       "</div>"
      ],
      "text/plain": [
       "   r_id  r_name\n",
       "0  1001    Arun\n",
       "1  1002    Rick\n",
       "2  1003   Morty\n",
       "3  1004  Summer\n",
       "4  1005   Jerry"
      ]
     },
     "metadata": {},
     "output_type": "display_data"
    },
    {
     "name": "stdin",
     "output_type": "stream",
     "text": [
      "enter the user id 1005\n"
     ]
    },
    {
     "name": "stdout",
     "output_type": "stream",
     "text": [
      "User cannot be removed before returning the book.\n",
      "\n"
     ]
    }
   ],
   "source": [
    "def remove_reader():\n",
    "    display(pd.read_sql_query('select * from reader',con))\n",
    "    remove_user = input('enter the user id')\n",
    "    query = pd.read_sql_query(f'select * from bookissued where r_id = {remove_user}',con)\n",
    "    try:\n",
    "        print('User cannot be removed before returning the book.')\n",
    "        print()\n",
    "    except:\n",
    "        con.execute(f'delete from reader where r_id = {remove_user}');con.commit()\n",
    "        print('User Successfully Deleted')\n",
    "        print()"
   ]
  },
  {
   "cell_type": "code",
   "execution_count": null,
   "metadata": {},
   "outputs": [],
   "source": []
  },
  {
   "cell_type": "code",
   "execution_count": 17,
   "metadata": {},
   "outputs": [
    {
     "name": "stdout",
     "output_type": "stream",
     "text": [
      "Welcome to the Library managment system\n",
      " \n",
      "    Please choose an option from below menu:\n",
      "    1. Issue a book\n",
      "    2. Return a book\n",
      "    3. View records\n",
      "    4. Update records\n",
      "    5. Remove records\n",
      "    6. Exit\n",
      "    \n",
      "\n"
     ]
    },
    {
     "name": "stdin",
     "output_type": "stream",
     "text": [
      " 3\n"
     ]
    },
    {
     "name": "stdout",
     "output_type": "stream",
     "text": [
      "Records tables : \n",
      "books\n",
      "reader\n",
      "bookissued\n",
      "\n"
     ]
    },
    {
     "name": "stdin",
     "output_type": "stream",
     "text": [
      "Please select a table to view reader\n"
     ]
    },
    {
     "name": "stdout",
     "output_type": "stream",
     "text": [
      "Table : reader\n"
     ]
    },
    {
     "data": {
      "text/html": [
       "<div>\n",
       "<style scoped>\n",
       "    .dataframe tbody tr th:only-of-type {\n",
       "        vertical-align: middle;\n",
       "    }\n",
       "\n",
       "    .dataframe tbody tr th {\n",
       "        vertical-align: top;\n",
       "    }\n",
       "\n",
       "    .dataframe thead th {\n",
       "        text-align: right;\n",
       "    }\n",
       "</style>\n",
       "<table border=\"1\" class=\"dataframe\">\n",
       "  <thead>\n",
       "    <tr style=\"text-align: right;\">\n",
       "      <th></th>\n",
       "      <th>r_id</th>\n",
       "      <th>r_name</th>\n",
       "    </tr>\n",
       "  </thead>\n",
       "  <tbody>\n",
       "    <tr>\n",
       "      <th>0</th>\n",
       "      <td>1001</td>\n",
       "      <td>Arun</td>\n",
       "    </tr>\n",
       "    <tr>\n",
       "      <th>1</th>\n",
       "      <td>1002</td>\n",
       "      <td>Rick</td>\n",
       "    </tr>\n",
       "    <tr>\n",
       "      <th>2</th>\n",
       "      <td>1003</td>\n",
       "      <td>Morty</td>\n",
       "    </tr>\n",
       "    <tr>\n",
       "      <th>3</th>\n",
       "      <td>1004</td>\n",
       "      <td>Summer</td>\n",
       "    </tr>\n",
       "    <tr>\n",
       "      <th>4</th>\n",
       "      <td>1005</td>\n",
       "      <td>Jerry</td>\n",
       "    </tr>\n",
       "  </tbody>\n",
       "</table>\n",
       "</div>"
      ],
      "text/plain": [
       "   r_id  r_name\n",
       "0  1001    Arun\n",
       "1  1002    Rick\n",
       "2  1003   Morty\n",
       "3  1004  Summer\n",
       "4  1005   Jerry"
      ]
     },
     "metadata": {},
     "output_type": "display_data"
    },
    {
     "name": "stdout",
     "output_type": "stream",
     "text": [
      "Welcome to the Library managment system\n",
      " \n",
      "    Please choose an option from below menu:\n",
      "    1. Issue a book\n",
      "    2. Return a book\n",
      "    3. View records\n",
      "    4. Update records\n",
      "    5. Remove records\n",
      "    6. Exit\n",
      "    \n",
      "\n"
     ]
    },
    {
     "name": "stdin",
     "output_type": "stream",
     "text": [
      " 5\n"
     ]
    },
    {
     "name": "stdout",
     "output_type": "stream",
     "text": [
      "Please select a table : \n",
      "        1. books\n",
      "        2. reader\n",
      "        \n"
     ]
    },
    {
     "name": "stdin",
     "output_type": "stream",
     "text": [
      " 1\n"
     ]
    },
    {
     "data": {
      "text/html": [
       "<div>\n",
       "<style scoped>\n",
       "    .dataframe tbody tr th:only-of-type {\n",
       "        vertical-align: middle;\n",
       "    }\n",
       "\n",
       "    .dataframe tbody tr th {\n",
       "        vertical-align: top;\n",
       "    }\n",
       "\n",
       "    .dataframe thead th {\n",
       "        text-align: right;\n",
       "    }\n",
       "</style>\n",
       "<table border=\"1\" class=\"dataframe\">\n",
       "  <thead>\n",
       "    <tr style=\"text-align: right;\">\n",
       "      <th></th>\n",
       "      <th>b_id</th>\n",
       "      <th>b_name</th>\n",
       "      <th>b_author</th>\n",
       "      <th>b_genre</th>\n",
       "      <th>b_availablity</th>\n",
       "    </tr>\n",
       "  </thead>\n",
       "  <tbody>\n",
       "    <tr>\n",
       "      <th>0</th>\n",
       "      <td>3</td>\n",
       "      <td>Harry Potter and the Philosopher Stone</td>\n",
       "      <td>J. K. Rowling</td>\n",
       "      <td>Fantasy</td>\n",
       "      <td>Available</td>\n",
       "    </tr>\n",
       "    <tr>\n",
       "      <th>1</th>\n",
       "      <td>4</td>\n",
       "      <td>Harry Potter and the Goblet of Fire</td>\n",
       "      <td>J. K. Rowling</td>\n",
       "      <td>Fantasy</td>\n",
       "      <td>Issued</td>\n",
       "    </tr>\n",
       "    <tr>\n",
       "      <th>2</th>\n",
       "      <td>5</td>\n",
       "      <td>Blood of Elves</td>\n",
       "      <td>Andrzej Sapkowski</td>\n",
       "      <td>Fantasy</td>\n",
       "      <td>Issued</td>\n",
       "    </tr>\n",
       "    <tr>\n",
       "      <th>3</th>\n",
       "      <td>6</td>\n",
       "      <td>Time of Contempt</td>\n",
       "      <td>Andrzej Sapkowski</td>\n",
       "      <td>Fantasy</td>\n",
       "      <td>Available</td>\n",
       "    </tr>\n",
       "    <tr>\n",
       "      <th>4</th>\n",
       "      <td>7</td>\n",
       "      <td>Baptism of Fire</td>\n",
       "      <td>Andrzej Sapkowski</td>\n",
       "      <td>Fantasy</td>\n",
       "      <td>Available</td>\n",
       "    </tr>\n",
       "    <tr>\n",
       "      <th>5</th>\n",
       "      <td>8</td>\n",
       "      <td>The Tower of the Swallow</td>\n",
       "      <td>Andrzej Sapkowski</td>\n",
       "      <td>Fantasy</td>\n",
       "      <td>Issued</td>\n",
       "    </tr>\n",
       "    <tr>\n",
       "      <th>6</th>\n",
       "      <td>9</td>\n",
       "      <td>The Lady of the Lake</td>\n",
       "      <td>Andrzej Sapkowski</td>\n",
       "      <td>Fantasy</td>\n",
       "      <td>Issued</td>\n",
       "    </tr>\n",
       "    <tr>\n",
       "      <th>7</th>\n",
       "      <td>10</td>\n",
       "      <td>The Hunger Games</td>\n",
       "      <td>Suzanne Collins</td>\n",
       "      <td>Science fiction</td>\n",
       "      <td>Available</td>\n",
       "    </tr>\n",
       "  </tbody>\n",
       "</table>\n",
       "</div>"
      ],
      "text/plain": [
       "   b_id                                  b_name           b_author  \\\n",
       "0     3  Harry Potter and the Philosopher Stone      J. K. Rowling   \n",
       "1     4     Harry Potter and the Goblet of Fire      J. K. Rowling   \n",
       "2     5                          Blood of Elves  Andrzej Sapkowski   \n",
       "3     6                       Time of Contempt   Andrzej Sapkowski   \n",
       "4     7                        Baptism of Fire   Andrzej Sapkowski   \n",
       "5     8                The Tower of the Swallow  Andrzej Sapkowski   \n",
       "6     9                    The Lady of the Lake  Andrzej Sapkowski   \n",
       "7    10                        The Hunger Games    Suzanne Collins   \n",
       "\n",
       "           b_genre b_availablity  \n",
       "0          Fantasy     Available  \n",
       "1          Fantasy        Issued  \n",
       "2          Fantasy        Issued  \n",
       "3          Fantasy     Available  \n",
       "4          Fantasy     Available  \n",
       "5          Fantasy        Issued  \n",
       "6          Fantasy        Issued  \n",
       "7  Science fiction     Available  "
      ]
     },
     "metadata": {},
     "output_type": "display_data"
    },
    {
     "name": "stdin",
     "output_type": "stream",
     "text": [
      "enter the book id 10\n"
     ]
    },
    {
     "ename": "OperationalError",
     "evalue": "database is locked",
     "output_type": "error",
     "traceback": [
      "\u001b[1;31m---------------------------------------------------------------------------\u001b[0m",
      "\u001b[1;31mOperationalError\u001b[0m                          Traceback (most recent call last)",
      "\u001b[1;32m<ipython-input-17-34c0e7992e67>\u001b[0m in \u001b[0;36m<module>\u001b[1;34m\u001b[0m\n\u001b[0;32m     46\u001b[0m         \u001b[0muser_input_remove\u001b[0m \u001b[1;33m=\u001b[0m \u001b[0minput\u001b[0m\u001b[1;33m(\u001b[0m\u001b[1;33m)\u001b[0m\u001b[1;33m\u001b[0m\u001b[1;33m\u001b[0m\u001b[0m\n\u001b[0;32m     47\u001b[0m         \u001b[1;32mif\u001b[0m \u001b[0muser_input_remove\u001b[0m \u001b[1;33m==\u001b[0m \u001b[1;34m'1'\u001b[0m\u001b[1;33m:\u001b[0m\u001b[1;33m\u001b[0m\u001b[1;33m\u001b[0m\u001b[0m\n\u001b[1;32m---> 48\u001b[1;33m             \u001b[0mremove_books\u001b[0m\u001b[1;33m(\u001b[0m\u001b[1;33m)\u001b[0m\u001b[1;33m\u001b[0m\u001b[1;33m\u001b[0m\u001b[0m\n\u001b[0m\u001b[0;32m     49\u001b[0m         \u001b[1;32melif\u001b[0m \u001b[0muser_input_remove\u001b[0m \u001b[1;33m==\u001b[0m \u001b[1;34m'2'\u001b[0m\u001b[1;33m:\u001b[0m\u001b[1;33m\u001b[0m\u001b[1;33m\u001b[0m\u001b[0m\n\u001b[0;32m     50\u001b[0m             \u001b[0mremove_reader\u001b[0m\u001b[1;33m(\u001b[0m\u001b[1;33m)\u001b[0m\u001b[1;33m\u001b[0m\u001b[1;33m\u001b[0m\u001b[0m\n",
      "\u001b[1;32m<ipython-input-10-3131286847b5>\u001b[0m in \u001b[0;36mremove_books\u001b[1;34m()\u001b[0m\n\u001b[0;32m      7\u001b[0m         \u001b[0mprint\u001b[0m\u001b[1;33m(\u001b[0m\u001b[1;33m)\u001b[0m\u001b[1;33m\u001b[0m\u001b[1;33m\u001b[0m\u001b[0m\n\u001b[0;32m      8\u001b[0m     \u001b[1;32melse\u001b[0m\u001b[1;33m:\u001b[0m\u001b[1;33m\u001b[0m\u001b[1;33m\u001b[0m\u001b[0m\n\u001b[1;32m----> 9\u001b[1;33m         \u001b[0mcon\u001b[0m\u001b[1;33m.\u001b[0m\u001b[0mexecute\u001b[0m\u001b[1;33m(\u001b[0m\u001b[1;34mf'delete from books where b_id = {remove_books}'\u001b[0m\u001b[1;33m)\u001b[0m\u001b[1;33m;\u001b[0m\u001b[0mcon\u001b[0m\u001b[1;33m.\u001b[0m\u001b[0mcommit\u001b[0m\u001b[1;33m(\u001b[0m\u001b[1;33m)\u001b[0m\u001b[1;33m\u001b[0m\u001b[1;33m\u001b[0m\u001b[0m\n\u001b[0m\u001b[0;32m     10\u001b[0m         \u001b[0mprint\u001b[0m\u001b[1;33m(\u001b[0m\u001b[1;34m'Book Successfully Deleted'\u001b[0m\u001b[1;33m)\u001b[0m\u001b[1;33m\u001b[0m\u001b[1;33m\u001b[0m\u001b[0m\n\u001b[0;32m     11\u001b[0m         \u001b[0mprint\u001b[0m\u001b[1;33m(\u001b[0m\u001b[1;33m)\u001b[0m\u001b[1;33m\u001b[0m\u001b[1;33m\u001b[0m\u001b[0m\n",
      "\u001b[1;31mOperationalError\u001b[0m: database is locked"
     ]
    }
   ],
   "source": [
    "while(True):\n",
    "    print('Welcome to the Library managment system')\n",
    "    con = sqlite3.connect('test.db')\n",
    "    print(''' \n",
    "    Please choose an option from below menu:\n",
    "    1. Issue a book\n",
    "    2. Return a book\n",
    "    3. View records\n",
    "    4. Update records\n",
    "    5. Remove records\n",
    "    6. Exit\n",
    "    ''')\n",
    "    print()\n",
    "\n",
    "    try:\n",
    "        user_input = int(input())\n",
    "    except:\n",
    "        print('Entered input is not a number please try again')\n",
    "        print()\n",
    "\n",
    "    if user_input == 1:\n",
    "        issue_book()\n",
    "    elif user_input == 2:\n",
    "        return_book()\n",
    "    elif user_input == 3:\n",
    "        print('Records tables : ')\n",
    "        showall_tables()\n",
    "        print()\n",
    "        user_input_view = input('Please select a table to view')\n",
    "\n",
    "        if user_input_view == 'books':\n",
    "            table_books()\n",
    "        elif user_input_view == 'reader':\n",
    "            table_reader()\n",
    "        elif user_input_view == 'bookissued':\n",
    "            table_bookissued()\n",
    "        else:\n",
    "            print('Please check the spelling')\n",
    "    elif user_input == 4:\n",
    "        pass\n",
    "    elif user_input == 5:\n",
    "        print('''Please select a table : \n",
    "        1. books\n",
    "        2. reader\n",
    "        ''')\n",
    "        user_input_remove = input()\n",
    "        if user_input_remove == '1':\n",
    "            remove_books()\n",
    "        elif user_input_remove == '2':\n",
    "            remove_reader()\n",
    "        else:\n",
    "            print('Please check the spelling')\n",
    "    elif user_input == 6:\n",
    "        con.close()\n",
    "        break"
   ]
  },
  {
   "cell_type": "markdown",
   "metadata": {},
   "source": [
    "### References"
   ]
  },
  {
   "cell_type": "markdown",
   "metadata": {},
   "source": [
    "All the codes are done from scratch no references"
   ]
  },
  {
   "cell_type": "code",
   "execution_count": 13,
   "metadata": {},
   "outputs": [],
   "source": [
    "con.close()"
   ]
  },
  {
   "cell_type": "code",
   "execution_count": null,
   "metadata": {},
   "outputs": [],
   "source": []
  }
 ],
 "metadata": {
  "kernelspec": {
   "display_name": "Python 3",
   "language": "python",
   "name": "python3"
  },
  "language_info": {
   "codemirror_mode": {
    "name": "ipython",
    "version": 3
   },
   "file_extension": ".py",
   "mimetype": "text/x-python",
   "name": "python",
   "nbconvert_exporter": "python",
   "pygments_lexer": "ipython3",
   "version": "3.8.8"
  },
  "toc-autonumbering": false
 },
 "nbformat": 4,
 "nbformat_minor": 4
}
