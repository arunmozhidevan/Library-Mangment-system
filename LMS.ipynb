{
 "cells": [
  {
   "cell_type": "markdown",
   "id": "0f64087d-c453-4ac8-a0af-e49b87876662",
   "metadata": {},
   "source": [
    "# Library Management system"
   ]
  },
  {
   "cell_type": "code",
   "execution_count": 1,
   "id": "5749262f-39cc-4573-9c0e-fc502db94325",
   "metadata": {},
   "outputs": [],
   "source": [
    "from mysql import connector # API for MySQL\n",
    "import pandas as pd # pandas' .read_sql_query() will be used to read the MySQl query in python\n",
    "import hashlib # passwods in username are stored in hashes not strings. In order to change the passwords user_input string to hash \n",
    "from getpass import getpass # used instead of input() which will not reveal the typed password unlike input()\n",
    "from user import username # imports dictionary containging usernames and passwords\n",
    "import auth # contains username and password information for MySQL"
   ]
  },
  {
   "cell_type": "code",
   "execution_count": 2,
   "id": "dfc606fd-fa17-4098-a30b-32c1ac4e3d08",
   "metadata": {},
   "outputs": [],
   "source": [
    "con = connector.connect(user=auth.user,password=auth.password,host=auth.host,database=auth.database)\n",
    "my_cursor = con.cursor()"
   ]
  },
  {
   "cell_type": "markdown",
   "id": "ec64e82e-f0fa-4427-beca-5a529ef2b32e",
   "metadata": {},
   "source": [
    "## Creating tables"
   ]
  },
  {
   "cell_type": "code",
   "execution_count": 3,
   "id": "f91c332a-0192-4d5a-9fb0-1ac2767dadd2",
   "metadata": {},
   "outputs": [],
   "source": [
    "# creating table books \n",
    "# my_cursor.execute('''\n",
    "# create table books(\n",
    "# b_id int primary key,\n",
    "# b_name varchar(50),\n",
    "# b_author varchar(25),\n",
    "# b_genre varchar(25),\n",
    "# b_availability varchar(25)\n",
    "# );\n",
    "# ''')\n",
    "# con.commit()"
   ]
  },
  {
   "cell_type": "code",
   "execution_count": 4,
   "id": "f34784bb-fc74-4dc8-a115-f69e69192f04",
   "metadata": {},
   "outputs": [],
   "source": [
    "# creating table book_issue \n",
    "# my_cursor.execute('''\n",
    "# create table book_issue(\n",
    "# r_id int references reader(r_id),\n",
    "# b_id int references books(b_id)\n",
    "# );\n",
    "# ''')\n",
    "# con.commit()"
   ]
  },
  {
   "cell_type": "code",
   "execution_count": 5,
   "id": "283a9615-d132-4b30-83b5-30d53fa8227e",
   "metadata": {},
   "outputs": [],
   "source": [
    "# creating table reader \n",
    "# my_cursor.execute('''\n",
    "# create table reader(\n",
    "# r_id int primary key,\n",
    "# r_name varchar(25)\n",
    "# );\n",
    "# ''')\n",
    "# con.commit()"
   ]
  },
  {
   "cell_type": "markdown",
   "id": "5d29c94c-16c5-423d-b340-e9984ba5c972",
   "metadata": {},
   "source": [
    "## Inserting values to the tables"
   ]
  },
  {
   "cell_type": "code",
   "execution_count": 6,
   "id": "1f1c74d4-284f-47d3-9e1d-f6f1921b9f16",
   "metadata": {},
   "outputs": [],
   "source": [
    "# inserting books values\n",
    "# my_cursor.execute('''\n",
    "# insert into books values\n",
    "# (1, 'Harry Potter and the Deathly Hallows', 'J. K. Rowling', 'Fantasy', 'Available'),\n",
    "# (2, 'Harry Potter and the Prisoner of Azkaban', 'J. K. Rowling', 'Fantasy', 'Issued'),\n",
    "# (3, 'Harry Potter and the Philosophers Stone', 'J. K. Rowling', 'Fantasy', 'Available'),\n",
    "# (4, 'Harry Potter and the Goblet of Fire', 'J. K. Rowling', 'Fantasy', 'Available'),\n",
    "# (5, 'Blood of Elves', 'Andrzej Sapkowski', 'Fantasy', 'Issued'),\n",
    "# (6, 'Time of Contempt ', 'Andrzej Sapkowski', 'Fantasy', 'Available'),\n",
    "# (7, 'Baptism of Fire ', 'Andrzej Sapkowski', 'Fantasy', 'Available'),\n",
    "# (8, 'The Tower of the Swallow', 'Andrzej Sapkowski', 'Fantasy', 'Issued'),\n",
    "# (9, 'The Lady of the Lake', 'Andrzej Sapkowski', 'Fantasy', 'Issued');\n",
    "# ''')\n",
    "# con.commit()"
   ]
  },
  {
   "cell_type": "code",
   "execution_count": 7,
   "id": "fa439676-25a0-494c-9527-7e2c6f77ee88",
   "metadata": {},
   "outputs": [],
   "source": [
    "# inserting reader values\n",
    "# my_cursor.execute('''\n",
    "# insert into reader values\n",
    "# (1001,'Arun'),\n",
    "# (1002,'Rick'),\n",
    "# (1003,'Morty'),\n",
    "# (1004,'Summer');\n",
    "# ''')\n",
    "# con.commit()"
   ]
  },
  {
   "cell_type": "code",
   "execution_count": 8,
   "id": "a3c0ead8-218f-41c8-a13b-947e0390a73c",
   "metadata": {},
   "outputs": [],
   "source": [
    "# inserting book_issue values\n",
    "# my_cursor.execute('''\n",
    "# insert into book_issue values\n",
    "# (1001,4),\n",
    "# (1002,8),\n",
    "# (1003,2),\n",
    "# (1004,9);\n",
    "# ''')\n",
    "# con.commit()"
   ]
  },
  {
   "cell_type": "markdown",
   "id": "8e07d139-4da5-46e2-b752-79c4699c101f",
   "metadata": {},
   "source": [
    "## Viewing records of the tables"
   ]
  },
  {
   "cell_type": "code",
   "execution_count": 9,
   "id": "7937693c-4e7b-42f1-b5b8-39cc8a222722",
   "metadata": {},
   "outputs": [],
   "source": [
    "def table_books():\n",
    "    \"\"\"Views table books.\"\"\"\n",
    "    print('Table : books')\n",
    "    display(pd.read_sql_query('select * from books', con))"
   ]
  },
  {
   "cell_type": "code",
   "execution_count": 10,
   "id": "7d4f208b-73c6-48d9-bfb0-9e4b0a0bf7a1",
   "metadata": {},
   "outputs": [],
   "source": [
    "def table_reader():\n",
    "    \"\"\"Views table reader.\"\"\"\n",
    "    print('Table : reader')\n",
    "    display(pd.read_sql_query('select * from reader', con))"
   ]
  },
  {
   "cell_type": "code",
   "execution_count": 11,
   "id": "f9c356ed-fc34-4f39-a76a-ffad570fcfb3",
   "metadata": {},
   "outputs": [],
   "source": [
    "def table_book_issue():\n",
    "    \"\"\"Views table book_issue.\"\"\"\n",
    "    print('Table : book_issue')\n",
    "    display(pd.read_sql_query('select * from book_issue', con))"
   ]
  },
  {
   "cell_type": "markdown",
   "id": "d458c7f8-440c-48c9-87f7-1b0e92d36538",
   "metadata": {},
   "source": [
    "## Issue and Return book\n"
   ]
  },
  {
   "cell_type": "code",
   "execution_count": 12,
   "id": "59136d19-afea-4441-b478-b9294963dc8b",
   "metadata": {},
   "outputs": [],
   "source": [
    "def issue_book():\n",
    "    \"\"\"issue book function  create the record to the table book_issue\n",
    "    and updates books table.\"\"\"\n",
    "    table_reader()\n",
    "    table_books()\n",
    "\n",
    "    user_id = int(input('Enter user ID : '))\n",
    "\n",
    "    if user_id in pd.read_sql_query('select * from reader', con)['r_id'].to_list():\n",
    "        book_id = input('Enter the book id : ')\n",
    "        if int(book_id) not in \\\n",
    "                pd.read_sql_query('select b_id from book_issue', con)['b_id'].to_list():\n",
    "            my_cursor.execute(f'INSERT INTO book_issue VALUES({user_id},{book_id});')\n",
    "            my_cursor.execute(f\"update books set b_availability = 'Issued' where b_id = {book_id};\")\n",
    "            con.commit()\n",
    "            print('Book Successfully updated.\\n')\n",
    "        else:\n",
    "            print('Book is not available for issue.\\n')\n",
    "    else:\n",
    "        print('User not found!\\n')"
   ]
  },
  {
   "cell_type": "code",
   "execution_count": 13,
   "id": "ae387022-1ccc-4872-8247-6bd013408f1e",
   "metadata": {},
   "outputs": [],
   "source": [
    "def return_book():\n",
    "    \"\"\"return book function returns the delete the record from the table book_issue\n",
    "    and updates books table.\"\"\"\n",
    "    table_book_issue()\n",
    "\n",
    "    user_id = int(input('Enter user ID : '))\n",
    "    if user_id not in pd.read_sql_query('select * from book_issue', con)['r_id'].to_list():\n",
    "        print('User ID is wrong.\\n')\n",
    "    else:\n",
    "        book_id = int(input('Enter the book id : '))\n",
    "        if book_id not in pd.read_sql_query('select * from book_issue', con)['b_id'].to_list():\n",
    "            print('Book ID is wrong.\\n')\n",
    "\n",
    "        else:\n",
    "            my_cursor.execute(f'DELETE from book_issue where b_id ={book_id} and r_id={user_id}')\n",
    "            my_cursor.execute(f'update books set b_availability = \\'Available\\' where b_id ={book_id}')\n",
    "            con.commit()\n",
    "            print('Book Successfully returned.\\n')"
   ]
  },
  {
   "cell_type": "markdown",
   "id": "25b3852c-e9ee-41e7-ae97-7f27652d220c",
   "metadata": {},
   "source": [
    "## Upload records in the table"
   ]
  },
  {
   "cell_type": "code",
   "execution_count": 14,
   "id": "dc7a0fa1-8f4e-4f4b-b6ae-a7c018789fe0",
   "metadata": {},
   "outputs": [],
   "source": [
    "def add_new_reader():\n",
    "    \"\"\"add new book reader adds new reader record to the tables reader.\"\"\"\n",
    "    table_reader()\n",
    "    \n",
    "    reader_id, reader_name = int(pd.read_sql_query('''\n",
    "        select r_id from reader order by r_id desc limit 1\n",
    "        ''', con).values[0][0]) + 1, input(\n",
    "        'Enter name of the reader : ')\n",
    "    try:\n",
    "        my_cursor.execute(f'insert into reader values({reader_id},\\'{reader_name}\\');')\n",
    "        con.commit()\n",
    "        print(f'Successfully added the book {reader_name} to table reader.\\n')\n",
    "    except connector.Error as error:\n",
    "        print('Update failed!\\n')\n",
    "        print(f'Error : {error}')"
   ]
  },
  {
   "cell_type": "code",
   "execution_count": 15,
   "id": "e086be2c-4ef6-40e2-8d9b-7d253de369d1",
   "metadata": {},
   "outputs": [],
   "source": [
    "def add_new_book():\n",
    "    \"\"\"add new book function adds new book record to the tables book.\"\"\"\n",
    "    table_books()\n",
    "    \n",
    "    b_id = int(pd.read_sql_query('''\n",
    "    select b_id from books order by b_id desc limit 1\n",
    "    ''', con).values[0][0]) + 1\n",
    "    b_name = input('Enter the name of the book : ')\n",
    "    b_author = input('Enter the name of the Author : ')\n",
    "    b_genre = input('Enter the name of the Genre : ')\n",
    "    \n",
    "    try:\n",
    "        my_cursor.execute(f\"insert into books values({b_id}, '{b_name}', '{b_author}', '{b_genre}', 'Available')\")\n",
    "        con.commit()\n",
    "        print(f'Successfully added {b_name} user to table reader.\\n')\n",
    "    except connector.Error as error:\n",
    "        print(f'Error : {error}')\n",
    "        print('Update failed!\\n')"
   ]
  },
  {
   "cell_type": "markdown",
   "id": "b38ca7b6-1656-44ad-851d-3faa24c612fb",
   "metadata": {},
   "source": [
    "## Modify records in the tables"
   ]
  },
  {
   "cell_type": "code",
   "execution_count": 16,
   "id": "c028a3c9-5c20-4319-8cd8-0601e1516be5",
   "metadata": {},
   "outputs": [],
   "source": [
    "def modify_reader():\n",
    "    \"\"\"modify reader function modifies the reader record from the tables reader.\"\"\"\n",
    "    table_reader()\n",
    "    \n",
    "    modify_readers = int(input('enter the reader id'))\n",
    "    \n",
    "    if modify_readers not in pd.read_sql_query('select * from reader', con)['r_id'].to_list():\n",
    "        print('User ID is wrong.\\n')\n",
    "    else:\n",
    "        r_name = input('Enter new name of the reader')\n",
    "        my_cursor.execute(f\"update reader set r_name = '{r_name}'where r_id = {modify_readers};\")\n",
    "        con.commit()\n",
    "        print('Reader Successfully modified.\\n')"
   ]
  },
  {
   "cell_type": "code",
   "execution_count": 17,
   "id": "87681693-172b-4886-a603-375986d6b081",
   "metadata": {
    "tags": []
   },
   "outputs": [],
   "source": [
    "def modify_book():\n",
    "    \"\"\"modify book function modifies the book record from the tables book.\"\"\"\n",
    "    table_books()\n",
    "    \n",
    "    modify_books = int(input('enter the book id'))\n",
    "    \n",
    "    if modify_books not in pd.read_sql_query('select * from books', con)['b_id'].to_list():\n",
    "        print('Book ID is wrong.\\n')\n",
    "    else:\n",
    "        b_name, b_author, b_genre = input(\n",
    "            'Enter new name of the book'), input(\n",
    "            'Enter new Author name of the book'), input(\n",
    "            'Enter new Genre of the book')\n",
    "        my_cursor.execute(\n",
    "            f'''\n",
    "            update books \n",
    "            set b_name = '{b_name}', \n",
    "            b_author = '{b_author}', \n",
    "            b_genre = '{b_genre}' \n",
    "            where b_id = {modify_books};\n",
    "            ''')\n",
    "        con.commit()\n",
    "        print('Book Successfully modified.\\n')"
   ]
  },
  {
   "cell_type": "markdown",
   "id": "e5a8d7b6-33f9-4392-99e7-599c53549dab",
   "metadata": {},
   "source": [
    "## Remove records from tables"
   ]
  },
  {
   "cell_type": "code",
   "execution_count": 18,
   "id": "6592756f-6a75-4591-8a46-ad2d29487fd6",
   "metadata": {},
   "outputs": [],
   "source": [
    "def remove_book():\n",
    "    \"\"\"remove book function removes the book record from the tables book.\"\"\"\n",
    "    table_books()\n",
    "    \n",
    "    book_id = int(input('Enter book ID : '))\n",
    "\n",
    "    if book_id not in pd.read_sql_query('select * from books', con)['b_id'].to_list():\n",
    "        print('Book ID is wrong.\\n')\n",
    "    else:\n",
    "        query = pd.read_sql_query(f'select * from books where b_id = {book_id}', con)\n",
    "        if (query['b_availability'] == 'Issued')[0]:\n",
    "            print('Issued book cannot be removed.\\n')\n",
    "        else:\n",
    "            my_cursor.execute(f'delete from books where b_id = {book_id}')\n",
    "            con.commit()\n",
    "            print('Book Successfully Deleted.\\n')"
   ]
  },
  {
   "cell_type": "code",
   "execution_count": 19,
   "id": "e98c8a82-fe53-4a50-9e91-3843d55ac891",
   "metadata": {},
   "outputs": [],
   "source": [
    "def remove_reader():\n",
    "    \"\"\"remove reader function removes the reader record from the tables reader.\"\"\"\n",
    "    table_reader()\n",
    "    \n",
    "    remove_user = int(input('enter the user id'))\n",
    "    \n",
    "    if remove_user not in pd.read_sql_query('select * from reader', con)['r_id'].to_list():\n",
    "        print('User ID is wrong.\\n')\n",
    "    elif remove_user in pd.read_sql_query('select r_id from book_issue', con)['r_id'].to_list():\n",
    "        print('User cannot be removed before returning the book.\\n')\n",
    "    else:\n",
    "        my_cursor.execute(f'delete from reader where r_id = {remove_user}')\n",
    "        con.commit()\n",
    "        print('User Successfully Deleted.\\n')"
   ]
  },
  {
   "cell_type": "markdown",
   "id": "3b0ea7b6-85de-4d07-b6a3-c83e80a14212",
   "metadata": {},
   "source": [
    "## Main program"
   ]
  },
  {
   "cell_type": "code",
   "execution_count": 20,
   "id": "106b54c3-45b0-4159-b516-bd8f3cff7ded",
   "metadata": {},
   "outputs": [],
   "source": [
    "def select_table(fn1, fn2, fn3=None):\n",
    "    \"\"\"Select function use to get the tables names.\"\"\"\n",
    "    print([\n",
    "              'Please select a table :\\n1. Books\\n2. Reader' \\\n",
    "                  if fn3 is None else 'Please select a table :\\n1. Books\\n2. Reader\\n3. Book issue'][0])\n",
    "    user_input_remove = input()\n",
    "    if user_input_remove == '1':\n",
    "        fn1()\n",
    "    elif user_input_remove == '2':\n",
    "        fn2()\n",
    "    elif user_input_remove == '3':\n",
    "        fn3()\n",
    "    else:\n",
    "        print('Wrong option!.\\n')"
   ]
  },
  {
   "cell_type": "code",
   "execution_count": 21,
   "id": "9835c0fa-8a6d-4afa-aade-da54db9f9914",
   "metadata": {},
   "outputs": [],
   "source": [
    "def main():\n",
    "    USER_INPUT = None\n",
    "    con = connector.connect(user=auth.user,password=auth.password,host=auth.host,database=auth.database)\n",
    "    my_cursor = con.cursor()\n",
    "    while True:\n",
    "        print('Welcome to the Library management system')\n",
    "        print(\n",
    "            '''\\nPlease choose an option from below menu:\\n1. Issue a book\\n2. Return a book\\n3. View records\\n4. Upload records\\n5. Remove records\\n6. Modify records\\n7. Exit\\n''')\n",
    "\n",
    "        try:\n",
    "            USER_INPUT = int(input())\n",
    "        except connector.Error as e:\n",
    "            print('Entered input is not a number please try again.\\n')\n",
    "            print(f'Error : {e}')\n",
    "\n",
    "        # Issue a book\n",
    "        if USER_INPUT == 1:\n",
    "            issue_book()\n",
    "        # Return a book\n",
    "        elif USER_INPUT == 2:\n",
    "            return_book()\n",
    "        # View records\n",
    "        elif USER_INPUT == 3:\n",
    "            select_table(table_books, table_reader, table_book_issue)\n",
    "        #  Update records\n",
    "        elif USER_INPUT == 4:\n",
    "            select_table(add_new_book, add_new_reader)\n",
    "        # Remove records\n",
    "        elif USER_INPUT == 5:\n",
    "            select_table(remove_book, remove_reader)\n",
    "        # modify records\n",
    "        elif USER_INPUT == 6:\n",
    "            select_table(modify_book, modify_reader)\n",
    "        # exit\n",
    "        elif USER_INPUT == 7:\n",
    "            con.close()\n",
    "            break"
   ]
  },
  {
   "cell_type": "markdown",
   "id": "a46b49f9-f839-4f18-a619-242fdccad3f0",
   "metadata": {},
   "source": [
    "## Demo"
   ]
  },
  {
   "cell_type": "code",
   "execution_count": 44,
   "id": "15be1f3a-f7b5-4dc6-b3ec-d38c69dad49e",
   "metadata": {},
   "outputs": [
    {
     "name": "stdout",
     "output_type": "stream",
     "text": [
      "Welcome to the Library management system\n",
      "\n",
      "Please choose an option from below menu:\n",
      "1. Issue a book\n",
      "2. Return a book\n",
      "3. View records\n",
      "4. Upload records\n",
      "5. Remove records\n",
      "6. Modify records\n",
      "7. Exit\n",
      "\n"
     ]
    },
    {
     "name": "stdin",
     "output_type": "stream",
     "text": [
      " 1\n"
     ]
    },
    {
     "name": "stdout",
     "output_type": "stream",
     "text": [
      "Table : reader\n"
     ]
    },
    {
     "data": {
      "text/html": [
       "<div>\n",
       "<style scoped>\n",
       "    .dataframe tbody tr th:only-of-type {\n",
       "        vertical-align: middle;\n",
       "    }\n",
       "\n",
       "    .dataframe tbody tr th {\n",
       "        vertical-align: top;\n",
       "    }\n",
       "\n",
       "    .dataframe thead th {\n",
       "        text-align: right;\n",
       "    }\n",
       "</style>\n",
       "<table border=\"1\" class=\"dataframe\">\n",
       "  <thead>\n",
       "    <tr style=\"text-align: right;\">\n",
       "      <th></th>\n",
       "      <th>r_id</th>\n",
       "      <th>r_name</th>\n",
       "    </tr>\n",
       "  </thead>\n",
       "  <tbody>\n",
       "    <tr>\n",
       "      <th>0</th>\n",
       "      <td>1001</td>\n",
       "      <td>Arun Mozhi Devan</td>\n",
       "    </tr>\n",
       "    <tr>\n",
       "      <th>1</th>\n",
       "      <td>1002</td>\n",
       "      <td>Rick</td>\n",
       "    </tr>\n",
       "    <tr>\n",
       "      <th>2</th>\n",
       "      <td>1003</td>\n",
       "      <td>Beth</td>\n",
       "    </tr>\n",
       "    <tr>\n",
       "      <th>3</th>\n",
       "      <td>1004</td>\n",
       "      <td>Sidney</td>\n",
       "    </tr>\n",
       "  </tbody>\n",
       "</table>\n",
       "</div>"
      ],
      "text/plain": [
       "   r_id            r_name\n",
       "0  1001  Arun Mozhi Devan\n",
       "1  1002              Rick\n",
       "2  1003              Beth\n",
       "3  1004            Sidney"
      ]
     },
     "metadata": {},
     "output_type": "display_data"
    },
    {
     "name": "stdout",
     "output_type": "stream",
     "text": [
      "Table : books\n"
     ]
    },
    {
     "data": {
      "text/html": [
       "<div>\n",
       "<style scoped>\n",
       "    .dataframe tbody tr th:only-of-type {\n",
       "        vertical-align: middle;\n",
       "    }\n",
       "\n",
       "    .dataframe tbody tr th {\n",
       "        vertical-align: top;\n",
       "    }\n",
       "\n",
       "    .dataframe thead th {\n",
       "        text-align: right;\n",
       "    }\n",
       "</style>\n",
       "<table border=\"1\" class=\"dataframe\">\n",
       "  <thead>\n",
       "    <tr style=\"text-align: right;\">\n",
       "      <th></th>\n",
       "      <th>b_id</th>\n",
       "      <th>b_name</th>\n",
       "      <th>b_author</th>\n",
       "      <th>b_genre</th>\n",
       "      <th>b_availability</th>\n",
       "    </tr>\n",
       "  </thead>\n",
       "  <tbody>\n",
       "    <tr>\n",
       "      <th>0</th>\n",
       "      <td>1</td>\n",
       "      <td>Harry Potter and the Deathly Hallows</td>\n",
       "      <td>J. K. Rowling</td>\n",
       "      <td>Fantasy</td>\n",
       "      <td>Issued</td>\n",
       "    </tr>\n",
       "    <tr>\n",
       "      <th>1</th>\n",
       "      <td>2</td>\n",
       "      <td>Harry Potter and the Prisoner of Azkaban</td>\n",
       "      <td>J. K. Rowling</td>\n",
       "      <td>Fantasy</td>\n",
       "      <td>Issued</td>\n",
       "    </tr>\n",
       "    <tr>\n",
       "      <th>2</th>\n",
       "      <td>3</td>\n",
       "      <td>Harry Potter and the Philosophers Stone</td>\n",
       "      <td>J. K. Rowling</td>\n",
       "      <td>Fantasy</td>\n",
       "      <td>Available</td>\n",
       "    </tr>\n",
       "    <tr>\n",
       "      <th>3</th>\n",
       "      <td>4</td>\n",
       "      <td>Harry Potter and the Goblet of Fire</td>\n",
       "      <td>J. K. Rowling</td>\n",
       "      <td>Fantasy</td>\n",
       "      <td>Available</td>\n",
       "    </tr>\n",
       "    <tr>\n",
       "      <th>4</th>\n",
       "      <td>5</td>\n",
       "      <td>Blood of Elves</td>\n",
       "      <td>Andrzej Sapkowski</td>\n",
       "      <td>Fantasy</td>\n",
       "      <td>Issued</td>\n",
       "    </tr>\n",
       "    <tr>\n",
       "      <th>5</th>\n",
       "      <td>6</td>\n",
       "      <td>Time of Contempt</td>\n",
       "      <td>Andrzej Sapkowski</td>\n",
       "      <td>Fantasy</td>\n",
       "      <td>Available</td>\n",
       "    </tr>\n",
       "    <tr>\n",
       "      <th>6</th>\n",
       "      <td>8</td>\n",
       "      <td>The Tower of the Swallow</td>\n",
       "      <td>Andrzej Sapkowski</td>\n",
       "      <td>Fantasy</td>\n",
       "      <td>Issued</td>\n",
       "    </tr>\n",
       "    <tr>\n",
       "      <th>7</th>\n",
       "      <td>10</td>\n",
       "      <td>Thinking, Fast and Slow</td>\n",
       "      <td>Daniel Kahneman</td>\n",
       "      <td>Non-fiction</td>\n",
       "      <td>Available</td>\n",
       "    </tr>\n",
       "  </tbody>\n",
       "</table>\n",
       "</div>"
      ],
      "text/plain": [
       "   b_id                                    b_name           b_author  \\\n",
       "0     1      Harry Potter and the Deathly Hallows      J. K. Rowling   \n",
       "1     2  Harry Potter and the Prisoner of Azkaban      J. K. Rowling   \n",
       "2     3   Harry Potter and the Philosophers Stone      J. K. Rowling   \n",
       "3     4       Harry Potter and the Goblet of Fire      J. K. Rowling   \n",
       "4     5                            Blood of Elves  Andrzej Sapkowski   \n",
       "5     6                         Time of Contempt   Andrzej Sapkowski   \n",
       "6     8                  The Tower of the Swallow  Andrzej Sapkowski   \n",
       "7    10                   Thinking, Fast and Slow    Daniel Kahneman   \n",
       "\n",
       "       b_genre b_availability  \n",
       "0      Fantasy         Issued  \n",
       "1      Fantasy         Issued  \n",
       "2      Fantasy      Available  \n",
       "3      Fantasy      Available  \n",
       "4      Fantasy         Issued  \n",
       "5      Fantasy      Available  \n",
       "6      Fantasy         Issued  \n",
       "7  Non-fiction      Available  "
      ]
     },
     "metadata": {},
     "output_type": "display_data"
    },
    {
     "name": "stdin",
     "output_type": "stream",
     "text": [
      "Enter user ID :  1001\n",
      "Enter the book id :  1\n"
     ]
    },
    {
     "name": "stdout",
     "output_type": "stream",
     "text": [
      "Book is not available for issue.\n",
      "\n",
      "Welcome to the Library management system\n",
      "\n",
      "Please choose an option from below menu:\n",
      "1. Issue a book\n",
      "2. Return a book\n",
      "3. View records\n",
      "4. Upload records\n",
      "5. Remove records\n",
      "6. Modify records\n",
      "7. Exit\n",
      "\n"
     ]
    },
    {
     "name": "stdin",
     "output_type": "stream",
     "text": [
      " 1\n"
     ]
    },
    {
     "name": "stdout",
     "output_type": "stream",
     "text": [
      "Table : reader\n"
     ]
    },
    {
     "data": {
      "text/html": [
       "<div>\n",
       "<style scoped>\n",
       "    .dataframe tbody tr th:only-of-type {\n",
       "        vertical-align: middle;\n",
       "    }\n",
       "\n",
       "    .dataframe tbody tr th {\n",
       "        vertical-align: top;\n",
       "    }\n",
       "\n",
       "    .dataframe thead th {\n",
       "        text-align: right;\n",
       "    }\n",
       "</style>\n",
       "<table border=\"1\" class=\"dataframe\">\n",
       "  <thead>\n",
       "    <tr style=\"text-align: right;\">\n",
       "      <th></th>\n",
       "      <th>r_id</th>\n",
       "      <th>r_name</th>\n",
       "    </tr>\n",
       "  </thead>\n",
       "  <tbody>\n",
       "    <tr>\n",
       "      <th>0</th>\n",
       "      <td>1001</td>\n",
       "      <td>Arun Mozhi Devan</td>\n",
       "    </tr>\n",
       "    <tr>\n",
       "      <th>1</th>\n",
       "      <td>1002</td>\n",
       "      <td>Rick</td>\n",
       "    </tr>\n",
       "    <tr>\n",
       "      <th>2</th>\n",
       "      <td>1003</td>\n",
       "      <td>Beth</td>\n",
       "    </tr>\n",
       "    <tr>\n",
       "      <th>3</th>\n",
       "      <td>1004</td>\n",
       "      <td>Sidney</td>\n",
       "    </tr>\n",
       "  </tbody>\n",
       "</table>\n",
       "</div>"
      ],
      "text/plain": [
       "   r_id            r_name\n",
       "0  1001  Arun Mozhi Devan\n",
       "1  1002              Rick\n",
       "2  1003              Beth\n",
       "3  1004            Sidney"
      ]
     },
     "metadata": {},
     "output_type": "display_data"
    },
    {
     "name": "stdout",
     "output_type": "stream",
     "text": [
      "Table : books\n"
     ]
    },
    {
     "data": {
      "text/html": [
       "<div>\n",
       "<style scoped>\n",
       "    .dataframe tbody tr th:only-of-type {\n",
       "        vertical-align: middle;\n",
       "    }\n",
       "\n",
       "    .dataframe tbody tr th {\n",
       "        vertical-align: top;\n",
       "    }\n",
       "\n",
       "    .dataframe thead th {\n",
       "        text-align: right;\n",
       "    }\n",
       "</style>\n",
       "<table border=\"1\" class=\"dataframe\">\n",
       "  <thead>\n",
       "    <tr style=\"text-align: right;\">\n",
       "      <th></th>\n",
       "      <th>b_id</th>\n",
       "      <th>b_name</th>\n",
       "      <th>b_author</th>\n",
       "      <th>b_genre</th>\n",
       "      <th>b_availability</th>\n",
       "    </tr>\n",
       "  </thead>\n",
       "  <tbody>\n",
       "    <tr>\n",
       "      <th>0</th>\n",
       "      <td>1</td>\n",
       "      <td>Harry Potter and the Deathly Hallows</td>\n",
       "      <td>J. K. Rowling</td>\n",
       "      <td>Fantasy</td>\n",
       "      <td>Issued</td>\n",
       "    </tr>\n",
       "    <tr>\n",
       "      <th>1</th>\n",
       "      <td>2</td>\n",
       "      <td>Harry Potter and the Prisoner of Azkaban</td>\n",
       "      <td>J. K. Rowling</td>\n",
       "      <td>Fantasy</td>\n",
       "      <td>Issued</td>\n",
       "    </tr>\n",
       "    <tr>\n",
       "      <th>2</th>\n",
       "      <td>3</td>\n",
       "      <td>Harry Potter and the Philosophers Stone</td>\n",
       "      <td>J. K. Rowling</td>\n",
       "      <td>Fantasy</td>\n",
       "      <td>Available</td>\n",
       "    </tr>\n",
       "    <tr>\n",
       "      <th>3</th>\n",
       "      <td>4</td>\n",
       "      <td>Harry Potter and the Goblet of Fire</td>\n",
       "      <td>J. K. Rowling</td>\n",
       "      <td>Fantasy</td>\n",
       "      <td>Available</td>\n",
       "    </tr>\n",
       "    <tr>\n",
       "      <th>4</th>\n",
       "      <td>5</td>\n",
       "      <td>Blood of Elves</td>\n",
       "      <td>Andrzej Sapkowski</td>\n",
       "      <td>Fantasy</td>\n",
       "      <td>Issued</td>\n",
       "    </tr>\n",
       "    <tr>\n",
       "      <th>5</th>\n",
       "      <td>6</td>\n",
       "      <td>Time of Contempt</td>\n",
       "      <td>Andrzej Sapkowski</td>\n",
       "      <td>Fantasy</td>\n",
       "      <td>Available</td>\n",
       "    </tr>\n",
       "    <tr>\n",
       "      <th>6</th>\n",
       "      <td>8</td>\n",
       "      <td>The Tower of the Swallow</td>\n",
       "      <td>Andrzej Sapkowski</td>\n",
       "      <td>Fantasy</td>\n",
       "      <td>Issued</td>\n",
       "    </tr>\n",
       "    <tr>\n",
       "      <th>7</th>\n",
       "      <td>10</td>\n",
       "      <td>Thinking, Fast and Slow</td>\n",
       "      <td>Daniel Kahneman</td>\n",
       "      <td>Non-fiction</td>\n",
       "      <td>Available</td>\n",
       "    </tr>\n",
       "  </tbody>\n",
       "</table>\n",
       "</div>"
      ],
      "text/plain": [
       "   b_id                                    b_name           b_author  \\\n",
       "0     1      Harry Potter and the Deathly Hallows      J. K. Rowling   \n",
       "1     2  Harry Potter and the Prisoner of Azkaban      J. K. Rowling   \n",
       "2     3   Harry Potter and the Philosophers Stone      J. K. Rowling   \n",
       "3     4       Harry Potter and the Goblet of Fire      J. K. Rowling   \n",
       "4     5                            Blood of Elves  Andrzej Sapkowski   \n",
       "5     6                         Time of Contempt   Andrzej Sapkowski   \n",
       "6     8                  The Tower of the Swallow  Andrzej Sapkowski   \n",
       "7    10                   Thinking, Fast and Slow    Daniel Kahneman   \n",
       "\n",
       "       b_genre b_availability  \n",
       "0      Fantasy         Issued  \n",
       "1      Fantasy         Issued  \n",
       "2      Fantasy      Available  \n",
       "3      Fantasy      Available  \n",
       "4      Fantasy         Issued  \n",
       "5      Fantasy      Available  \n",
       "6      Fantasy         Issued  \n",
       "7  Non-fiction      Available  "
      ]
     },
     "metadata": {},
     "output_type": "display_data"
    },
    {
     "name": "stdin",
     "output_type": "stream",
     "text": [
      "Enter user ID :  1001\n",
      "Enter the book id :  3\n"
     ]
    },
    {
     "name": "stdout",
     "output_type": "stream",
     "text": [
      "Book Successfully updated.\n",
      "\n",
      "Welcome to the Library management system\n",
      "\n",
      "Please choose an option from below menu:\n",
      "1. Issue a book\n",
      "2. Return a book\n",
      "3. View records\n",
      "4. Upload records\n",
      "5. Remove records\n",
      "6. Modify records\n",
      "7. Exit\n",
      "\n"
     ]
    },
    {
     "name": "stdin",
     "output_type": "stream",
     "text": [
      " 73\n"
     ]
    },
    {
     "name": "stdout",
     "output_type": "stream",
     "text": [
      "Welcome to the Library management system\n",
      "\n",
      "Please choose an option from below menu:\n",
      "1. Issue a book\n",
      "2. Return a book\n",
      "3. View records\n",
      "4. Upload records\n",
      "5. Remove records\n",
      "6. Modify records\n",
      "7. Exit\n",
      "\n"
     ]
    },
    {
     "name": "stdin",
     "output_type": "stream",
     "text": [
      " 3\n"
     ]
    },
    {
     "name": "stdout",
     "output_type": "stream",
     "text": [
      "Please select a table :\n",
      "1. Books\n",
      "2. Reader\n",
      "3. Book issue\n"
     ]
    },
    {
     "name": "stdin",
     "output_type": "stream",
     "text": [
      " 3\n"
     ]
    },
    {
     "name": "stdout",
     "output_type": "stream",
     "text": [
      "Table : book_issue\n"
     ]
    },
    {
     "data": {
      "text/html": [
       "<div>\n",
       "<style scoped>\n",
       "    .dataframe tbody tr th:only-of-type {\n",
       "        vertical-align: middle;\n",
       "    }\n",
       "\n",
       "    .dataframe tbody tr th {\n",
       "        vertical-align: top;\n",
       "    }\n",
       "\n",
       "    .dataframe thead th {\n",
       "        text-align: right;\n",
       "    }\n",
       "</style>\n",
       "<table border=\"1\" class=\"dataframe\">\n",
       "  <thead>\n",
       "    <tr style=\"text-align: right;\">\n",
       "      <th></th>\n",
       "      <th>r_id</th>\n",
       "      <th>b_id</th>\n",
       "    </tr>\n",
       "  </thead>\n",
       "  <tbody>\n",
       "    <tr>\n",
       "      <th>0</th>\n",
       "      <td>1001</td>\n",
       "      <td>4</td>\n",
       "    </tr>\n",
       "    <tr>\n",
       "      <th>1</th>\n",
       "      <td>1002</td>\n",
       "      <td>8</td>\n",
       "    </tr>\n",
       "    <tr>\n",
       "      <th>2</th>\n",
       "      <td>1003</td>\n",
       "      <td>2</td>\n",
       "    </tr>\n",
       "    <tr>\n",
       "      <th>3</th>\n",
       "      <td>1004</td>\n",
       "      <td>1</td>\n",
       "    </tr>\n",
       "    <tr>\n",
       "      <th>4</th>\n",
       "      <td>1001</td>\n",
       "      <td>3</td>\n",
       "    </tr>\n",
       "  </tbody>\n",
       "</table>\n",
       "</div>"
      ],
      "text/plain": [
       "   r_id  b_id\n",
       "0  1001     4\n",
       "1  1002     8\n",
       "2  1003     2\n",
       "3  1004     1\n",
       "4  1001     3"
      ]
     },
     "metadata": {},
     "output_type": "display_data"
    },
    {
     "name": "stdout",
     "output_type": "stream",
     "text": [
      "Welcome to the Library management system\n",
      "\n",
      "Please choose an option from below menu:\n",
      "1. Issue a book\n",
      "2. Return a book\n",
      "3. View records\n",
      "4. Upload records\n",
      "5. Remove records\n",
      "6. Modify records\n",
      "7. Exit\n",
      "\n"
     ]
    },
    {
     "name": "stdin",
     "output_type": "stream",
     "text": [
      " 7\n"
     ]
    }
   ],
   "source": [
    "# 1. Issue a book\n",
    "main()"
   ]
  },
  {
   "cell_type": "code",
   "execution_count": 23,
   "id": "a0520542-6057-4ac3-9c66-756e9c0eb870",
   "metadata": {},
   "outputs": [
    {
     "name": "stdout",
     "output_type": "stream",
     "text": [
      "Welcome to the Library management system\n",
      "\n",
      "Please choose an option from below menu:\n",
      "1. Issue a book\n",
      "2. Return a book\n",
      "3. View records\n",
      "4. Upload records\n",
      "5. Remove records\n",
      "6. Modify records\n",
      "7. Exit\n",
      "\n"
     ]
    },
    {
     "name": "stdin",
     "output_type": "stream",
     "text": [
      " 2\n"
     ]
    },
    {
     "name": "stdout",
     "output_type": "stream",
     "text": [
      "Table : book_issue\n"
     ]
    },
    {
     "data": {
      "text/html": [
       "<div>\n",
       "<style scoped>\n",
       "    .dataframe tbody tr th:only-of-type {\n",
       "        vertical-align: middle;\n",
       "    }\n",
       "\n",
       "    .dataframe tbody tr th {\n",
       "        vertical-align: top;\n",
       "    }\n",
       "\n",
       "    .dataframe thead th {\n",
       "        text-align: right;\n",
       "    }\n",
       "</style>\n",
       "<table border=\"1\" class=\"dataframe\">\n",
       "  <thead>\n",
       "    <tr style=\"text-align: right;\">\n",
       "      <th></th>\n",
       "      <th>r_id</th>\n",
       "      <th>b_id</th>\n",
       "    </tr>\n",
       "  </thead>\n",
       "  <tbody>\n",
       "    <tr>\n",
       "      <th>0</th>\n",
       "      <td>1001</td>\n",
       "      <td>4</td>\n",
       "    </tr>\n",
       "    <tr>\n",
       "      <th>1</th>\n",
       "      <td>1002</td>\n",
       "      <td>8</td>\n",
       "    </tr>\n",
       "    <tr>\n",
       "      <th>2</th>\n",
       "      <td>1003</td>\n",
       "      <td>2</td>\n",
       "    </tr>\n",
       "    <tr>\n",
       "      <th>3</th>\n",
       "      <td>1004</td>\n",
       "      <td>9</td>\n",
       "    </tr>\n",
       "    <tr>\n",
       "      <th>4</th>\n",
       "      <td>1004</td>\n",
       "      <td>1</td>\n",
       "    </tr>\n",
       "  </tbody>\n",
       "</table>\n",
       "</div>"
      ],
      "text/plain": [
       "   r_id  b_id\n",
       "0  1001     4\n",
       "1  1002     8\n",
       "2  1003     2\n",
       "3  1004     9\n",
       "4  1004     1"
      ]
     },
     "metadata": {},
     "output_type": "display_data"
    },
    {
     "name": "stdin",
     "output_type": "stream",
     "text": [
      "Enter user ID :  1004\n",
      "Enter the book id :  9\n"
     ]
    },
    {
     "name": "stdout",
     "output_type": "stream",
     "text": [
      "Book Successfully returned.\n",
      "\n",
      "Welcome to the Library management system\n",
      "\n",
      "Please choose an option from below menu:\n",
      "1. Issue a book\n",
      "2. Return a book\n",
      "3. View records\n",
      "4. Upload records\n",
      "5. Remove records\n",
      "6. Modify records\n",
      "7. Exit\n",
      "\n"
     ]
    },
    {
     "name": "stdin",
     "output_type": "stream",
     "text": [
      " 7\n"
     ]
    }
   ],
   "source": [
    "# 2. Return a book\n",
    "main()"
   ]
  },
  {
   "cell_type": "code",
   "execution_count": 24,
   "id": "a9d5741d-9966-49a8-846a-22ea80c70286",
   "metadata": {},
   "outputs": [
    {
     "name": "stdout",
     "output_type": "stream",
     "text": [
      "Welcome to the Library management system\n",
      "\n",
      "Please choose an option from below menu:\n",
      "1. Issue a book\n",
      "2. Return a book\n",
      "3. View records\n",
      "4. Upload records\n",
      "5. Remove records\n",
      "6. Modify records\n",
      "7. Exit\n",
      "\n"
     ]
    },
    {
     "name": "stdin",
     "output_type": "stream",
     "text": [
      " 3\n"
     ]
    },
    {
     "name": "stdout",
     "output_type": "stream",
     "text": [
      "Please select a table :\n",
      "1. Books\n",
      "2. Reader\n",
      "3. Book issue\n"
     ]
    },
    {
     "name": "stdin",
     "output_type": "stream",
     "text": [
      " 1\n"
     ]
    },
    {
     "name": "stdout",
     "output_type": "stream",
     "text": [
      "Table : books\n"
     ]
    },
    {
     "data": {
      "text/html": [
       "<div>\n",
       "<style scoped>\n",
       "    .dataframe tbody tr th:only-of-type {\n",
       "        vertical-align: middle;\n",
       "    }\n",
       "\n",
       "    .dataframe tbody tr th {\n",
       "        vertical-align: top;\n",
       "    }\n",
       "\n",
       "    .dataframe thead th {\n",
       "        text-align: right;\n",
       "    }\n",
       "</style>\n",
       "<table border=\"1\" class=\"dataframe\">\n",
       "  <thead>\n",
       "    <tr style=\"text-align: right;\">\n",
       "      <th></th>\n",
       "      <th>b_id</th>\n",
       "      <th>b_name</th>\n",
       "      <th>b_author</th>\n",
       "      <th>b_genre</th>\n",
       "      <th>b_availability</th>\n",
       "    </tr>\n",
       "  </thead>\n",
       "  <tbody>\n",
       "    <tr>\n",
       "      <th>0</th>\n",
       "      <td>1</td>\n",
       "      <td>Harry Potter and the Deathly Hallows</td>\n",
       "      <td>J. K. Rowling</td>\n",
       "      <td>Fantasy</td>\n",
       "      <td>Issued</td>\n",
       "    </tr>\n",
       "    <tr>\n",
       "      <th>1</th>\n",
       "      <td>2</td>\n",
       "      <td>Harry Potter and the Prisoner of Azkaban</td>\n",
       "      <td>J. K. Rowling</td>\n",
       "      <td>Fantasy</td>\n",
       "      <td>Issued</td>\n",
       "    </tr>\n",
       "    <tr>\n",
       "      <th>2</th>\n",
       "      <td>3</td>\n",
       "      <td>Harry Potter and the Philosophers Stone</td>\n",
       "      <td>J. K. Rowling</td>\n",
       "      <td>Fantasy</td>\n",
       "      <td>Available</td>\n",
       "    </tr>\n",
       "    <tr>\n",
       "      <th>3</th>\n",
       "      <td>4</td>\n",
       "      <td>Harry Potter and the Goblet of Fire</td>\n",
       "      <td>J. K. Rowling</td>\n",
       "      <td>Fantasy</td>\n",
       "      <td>Available</td>\n",
       "    </tr>\n",
       "    <tr>\n",
       "      <th>4</th>\n",
       "      <td>5</td>\n",
       "      <td>Blood of Elves</td>\n",
       "      <td>Andrzej Sapkowski</td>\n",
       "      <td>Fantasy</td>\n",
       "      <td>Issued</td>\n",
       "    </tr>\n",
       "    <tr>\n",
       "      <th>5</th>\n",
       "      <td>6</td>\n",
       "      <td>Time of Contempt</td>\n",
       "      <td>Andrzej Sapkowski</td>\n",
       "      <td>Fantasy</td>\n",
       "      <td>Available</td>\n",
       "    </tr>\n",
       "    <tr>\n",
       "      <th>6</th>\n",
       "      <td>7</td>\n",
       "      <td>Baptism of Fire</td>\n",
       "      <td>Andrzej Sapkowski</td>\n",
       "      <td>Fantasy</td>\n",
       "      <td>Available</td>\n",
       "    </tr>\n",
       "    <tr>\n",
       "      <th>7</th>\n",
       "      <td>8</td>\n",
       "      <td>The Tower of the Swallow</td>\n",
       "      <td>Andrzej Sapkowski</td>\n",
       "      <td>Fantasy</td>\n",
       "      <td>Issued</td>\n",
       "    </tr>\n",
       "    <tr>\n",
       "      <th>8</th>\n",
       "      <td>9</td>\n",
       "      <td>The Lady of the Lake</td>\n",
       "      <td>Andrzej Sapkowski</td>\n",
       "      <td>Fantasy</td>\n",
       "      <td>Available</td>\n",
       "    </tr>\n",
       "  </tbody>\n",
       "</table>\n",
       "</div>"
      ],
      "text/plain": [
       "   b_id                                    b_name           b_author  b_genre  \\\n",
       "0     1      Harry Potter and the Deathly Hallows      J. K. Rowling  Fantasy   \n",
       "1     2  Harry Potter and the Prisoner of Azkaban      J. K. Rowling  Fantasy   \n",
       "2     3   Harry Potter and the Philosophers Stone      J. K. Rowling  Fantasy   \n",
       "3     4       Harry Potter and the Goblet of Fire      J. K. Rowling  Fantasy   \n",
       "4     5                            Blood of Elves  Andrzej Sapkowski  Fantasy   \n",
       "5     6                         Time of Contempt   Andrzej Sapkowski  Fantasy   \n",
       "6     7                          Baptism of Fire   Andrzej Sapkowski  Fantasy   \n",
       "7     8                  The Tower of the Swallow  Andrzej Sapkowski  Fantasy   \n",
       "8     9                      The Lady of the Lake  Andrzej Sapkowski  Fantasy   \n",
       "\n",
       "  b_availability  \n",
       "0         Issued  \n",
       "1         Issued  \n",
       "2      Available  \n",
       "3      Available  \n",
       "4         Issued  \n",
       "5      Available  \n",
       "6      Available  \n",
       "7         Issued  \n",
       "8      Available  "
      ]
     },
     "metadata": {},
     "output_type": "display_data"
    },
    {
     "name": "stdout",
     "output_type": "stream",
     "text": [
      "Welcome to the Library management system\n",
      "\n",
      "Please choose an option from below menu:\n",
      "1. Issue a book\n",
      "2. Return a book\n",
      "3. View records\n",
      "4. Upload records\n",
      "5. Remove records\n",
      "6. Modify records\n",
      "7. Exit\n",
      "\n"
     ]
    },
    {
     "name": "stdin",
     "output_type": "stream",
     "text": [
      " 3\n"
     ]
    },
    {
     "name": "stdout",
     "output_type": "stream",
     "text": [
      "Please select a table :\n",
      "1. Books\n",
      "2. Reader\n",
      "3. Book issue\n"
     ]
    },
    {
     "name": "stdin",
     "output_type": "stream",
     "text": [
      " 2\n"
     ]
    },
    {
     "name": "stdout",
     "output_type": "stream",
     "text": [
      "Table : reader\n"
     ]
    },
    {
     "data": {
      "text/html": [
       "<div>\n",
       "<style scoped>\n",
       "    .dataframe tbody tr th:only-of-type {\n",
       "        vertical-align: middle;\n",
       "    }\n",
       "\n",
       "    .dataframe tbody tr th {\n",
       "        vertical-align: top;\n",
       "    }\n",
       "\n",
       "    .dataframe thead th {\n",
       "        text-align: right;\n",
       "    }\n",
       "</style>\n",
       "<table border=\"1\" class=\"dataframe\">\n",
       "  <thead>\n",
       "    <tr style=\"text-align: right;\">\n",
       "      <th></th>\n",
       "      <th>r_id</th>\n",
       "      <th>r_name</th>\n",
       "    </tr>\n",
       "  </thead>\n",
       "  <tbody>\n",
       "    <tr>\n",
       "      <th>0</th>\n",
       "      <td>1001</td>\n",
       "      <td>Arun</td>\n",
       "    </tr>\n",
       "    <tr>\n",
       "      <th>1</th>\n",
       "      <td>1002</td>\n",
       "      <td>Rick</td>\n",
       "    </tr>\n",
       "    <tr>\n",
       "      <th>2</th>\n",
       "      <td>1003</td>\n",
       "      <td>Beth</td>\n",
       "    </tr>\n",
       "    <tr>\n",
       "      <th>3</th>\n",
       "      <td>1004</td>\n",
       "      <td>Sidney</td>\n",
       "    </tr>\n",
       "  </tbody>\n",
       "</table>\n",
       "</div>"
      ],
      "text/plain": [
       "   r_id  r_name\n",
       "0  1001    Arun\n",
       "1  1002    Rick\n",
       "2  1003    Beth\n",
       "3  1004  Sidney"
      ]
     },
     "metadata": {},
     "output_type": "display_data"
    },
    {
     "name": "stdout",
     "output_type": "stream",
     "text": [
      "Welcome to the Library management system\n",
      "\n",
      "Please choose an option from below menu:\n",
      "1. Issue a book\n",
      "2. Return a book\n",
      "3. View records\n",
      "4. Upload records\n",
      "5. Remove records\n",
      "6. Modify records\n",
      "7. Exit\n",
      "\n"
     ]
    },
    {
     "name": "stdin",
     "output_type": "stream",
     "text": [
      " 3\n"
     ]
    },
    {
     "name": "stdout",
     "output_type": "stream",
     "text": [
      "Please select a table :\n",
      "1. Books\n",
      "2. Reader\n",
      "3. Book issue\n"
     ]
    },
    {
     "name": "stdin",
     "output_type": "stream",
     "text": [
      " 3\n"
     ]
    },
    {
     "name": "stdout",
     "output_type": "stream",
     "text": [
      "Table : book_issue\n"
     ]
    },
    {
     "data": {
      "text/html": [
       "<div>\n",
       "<style scoped>\n",
       "    .dataframe tbody tr th:only-of-type {\n",
       "        vertical-align: middle;\n",
       "    }\n",
       "\n",
       "    .dataframe tbody tr th {\n",
       "        vertical-align: top;\n",
       "    }\n",
       "\n",
       "    .dataframe thead th {\n",
       "        text-align: right;\n",
       "    }\n",
       "</style>\n",
       "<table border=\"1\" class=\"dataframe\">\n",
       "  <thead>\n",
       "    <tr style=\"text-align: right;\">\n",
       "      <th></th>\n",
       "      <th>r_id</th>\n",
       "      <th>b_id</th>\n",
       "    </tr>\n",
       "  </thead>\n",
       "  <tbody>\n",
       "    <tr>\n",
       "      <th>0</th>\n",
       "      <td>1001</td>\n",
       "      <td>4</td>\n",
       "    </tr>\n",
       "    <tr>\n",
       "      <th>1</th>\n",
       "      <td>1002</td>\n",
       "      <td>8</td>\n",
       "    </tr>\n",
       "    <tr>\n",
       "      <th>2</th>\n",
       "      <td>1003</td>\n",
       "      <td>2</td>\n",
       "    </tr>\n",
       "    <tr>\n",
       "      <th>3</th>\n",
       "      <td>1004</td>\n",
       "      <td>1</td>\n",
       "    </tr>\n",
       "  </tbody>\n",
       "</table>\n",
       "</div>"
      ],
      "text/plain": [
       "   r_id  b_id\n",
       "0  1001     4\n",
       "1  1002     8\n",
       "2  1003     2\n",
       "3  1004     1"
      ]
     },
     "metadata": {},
     "output_type": "display_data"
    },
    {
     "name": "stdout",
     "output_type": "stream",
     "text": [
      "Welcome to the Library management system\n",
      "\n",
      "Please choose an option from below menu:\n",
      "1. Issue a book\n",
      "2. Return a book\n",
      "3. View records\n",
      "4. Upload records\n",
      "5. Remove records\n",
      "6. Modify records\n",
      "7. Exit\n",
      "\n"
     ]
    },
    {
     "name": "stdin",
     "output_type": "stream",
     "text": [
      " 7\n"
     ]
    }
   ],
   "source": [
    "# 3. View records\n",
    "main()"
   ]
  },
  {
   "cell_type": "code",
   "execution_count": 25,
   "id": "b833376c-9967-41c5-bdb1-3bfc2529241f",
   "metadata": {},
   "outputs": [
    {
     "name": "stdout",
     "output_type": "stream",
     "text": [
      "Welcome to the Library management system\n",
      "\n",
      "Please choose an option from below menu:\n",
      "1. Issue a book\n",
      "2. Return a book\n",
      "3. View records\n",
      "4. Upload records\n",
      "5. Remove records\n",
      "6. Modify records\n",
      "7. Exit\n",
      "\n"
     ]
    },
    {
     "name": "stdin",
     "output_type": "stream",
     "text": [
      " 4\n"
     ]
    },
    {
     "name": "stdout",
     "output_type": "stream",
     "text": [
      "Please select a table :\n",
      "1. Books\n",
      "2. Reader\n"
     ]
    },
    {
     "name": "stdin",
     "output_type": "stream",
     "text": [
      " 1\n"
     ]
    },
    {
     "data": {
      "text/html": [
       "<div>\n",
       "<style scoped>\n",
       "    .dataframe tbody tr th:only-of-type {\n",
       "        vertical-align: middle;\n",
       "    }\n",
       "\n",
       "    .dataframe tbody tr th {\n",
       "        vertical-align: top;\n",
       "    }\n",
       "\n",
       "    .dataframe thead th {\n",
       "        text-align: right;\n",
       "    }\n",
       "</style>\n",
       "<table border=\"1\" class=\"dataframe\">\n",
       "  <thead>\n",
       "    <tr style=\"text-align: right;\">\n",
       "      <th></th>\n",
       "      <th>b_id</th>\n",
       "      <th>b_name</th>\n",
       "      <th>b_author</th>\n",
       "      <th>b_genre</th>\n",
       "      <th>b_availability</th>\n",
       "    </tr>\n",
       "  </thead>\n",
       "  <tbody>\n",
       "    <tr>\n",
       "      <th>0</th>\n",
       "      <td>1</td>\n",
       "      <td>Harry Potter and the Deathly Hallows</td>\n",
       "      <td>J. K. Rowling</td>\n",
       "      <td>Fantasy</td>\n",
       "      <td>Issued</td>\n",
       "    </tr>\n",
       "    <tr>\n",
       "      <th>1</th>\n",
       "      <td>2</td>\n",
       "      <td>Harry Potter and the Prisoner of Azkaban</td>\n",
       "      <td>J. K. Rowling</td>\n",
       "      <td>Fantasy</td>\n",
       "      <td>Issued</td>\n",
       "    </tr>\n",
       "    <tr>\n",
       "      <th>2</th>\n",
       "      <td>3</td>\n",
       "      <td>Harry Potter and the Philosophers Stone</td>\n",
       "      <td>J. K. Rowling</td>\n",
       "      <td>Fantasy</td>\n",
       "      <td>Available</td>\n",
       "    </tr>\n",
       "    <tr>\n",
       "      <th>3</th>\n",
       "      <td>4</td>\n",
       "      <td>Harry Potter and the Goblet of Fire</td>\n",
       "      <td>J. K. Rowling</td>\n",
       "      <td>Fantasy</td>\n",
       "      <td>Available</td>\n",
       "    </tr>\n",
       "    <tr>\n",
       "      <th>4</th>\n",
       "      <td>5</td>\n",
       "      <td>Blood of Elves</td>\n",
       "      <td>Andrzej Sapkowski</td>\n",
       "      <td>Fantasy</td>\n",
       "      <td>Issued</td>\n",
       "    </tr>\n",
       "    <tr>\n",
       "      <th>5</th>\n",
       "      <td>6</td>\n",
       "      <td>Time of Contempt</td>\n",
       "      <td>Andrzej Sapkowski</td>\n",
       "      <td>Fantasy</td>\n",
       "      <td>Available</td>\n",
       "    </tr>\n",
       "    <tr>\n",
       "      <th>6</th>\n",
       "      <td>7</td>\n",
       "      <td>Baptism of Fire</td>\n",
       "      <td>Andrzej Sapkowski</td>\n",
       "      <td>Fantasy</td>\n",
       "      <td>Available</td>\n",
       "    </tr>\n",
       "    <tr>\n",
       "      <th>7</th>\n",
       "      <td>8</td>\n",
       "      <td>The Tower of the Swallow</td>\n",
       "      <td>Andrzej Sapkowski</td>\n",
       "      <td>Fantasy</td>\n",
       "      <td>Issued</td>\n",
       "    </tr>\n",
       "    <tr>\n",
       "      <th>8</th>\n",
       "      <td>9</td>\n",
       "      <td>The Lady of the Lake</td>\n",
       "      <td>Andrzej Sapkowski</td>\n",
       "      <td>Fantasy</td>\n",
       "      <td>Available</td>\n",
       "    </tr>\n",
       "  </tbody>\n",
       "</table>\n",
       "</div>"
      ],
      "text/plain": [
       "   b_id                                    b_name           b_author  b_genre  \\\n",
       "0     1      Harry Potter and the Deathly Hallows      J. K. Rowling  Fantasy   \n",
       "1     2  Harry Potter and the Prisoner of Azkaban      J. K. Rowling  Fantasy   \n",
       "2     3   Harry Potter and the Philosophers Stone      J. K. Rowling  Fantasy   \n",
       "3     4       Harry Potter and the Goblet of Fire      J. K. Rowling  Fantasy   \n",
       "4     5                            Blood of Elves  Andrzej Sapkowski  Fantasy   \n",
       "5     6                         Time of Contempt   Andrzej Sapkowski  Fantasy   \n",
       "6     7                          Baptism of Fire   Andrzej Sapkowski  Fantasy   \n",
       "7     8                  The Tower of the Swallow  Andrzej Sapkowski  Fantasy   \n",
       "8     9                      The Lady of the Lake  Andrzej Sapkowski  Fantasy   \n",
       "\n",
       "  b_availability  \n",
       "0         Issued  \n",
       "1         Issued  \n",
       "2      Available  \n",
       "3      Available  \n",
       "4         Issued  \n",
       "5      Available  \n",
       "6      Available  \n",
       "7         Issued  \n",
       "8      Available  "
      ]
     },
     "metadata": {},
     "output_type": "display_data"
    },
    {
     "name": "stdin",
     "output_type": "stream",
     "text": [
      "Enter the name of the book :  Thinking, Fast and Slow\n",
      "Enter the name of the Author :  Daniel Kahneman\n",
      "Enter the name of the Genre :  Non-fiction\n"
     ]
    },
    {
     "name": "stdout",
     "output_type": "stream",
     "text": [
      "Successfully added Thinking, Fast and Slow user to table reader.\n",
      "\n",
      "Welcome to the Library management system\n",
      "\n",
      "Please choose an option from below menu:\n",
      "1. Issue a book\n",
      "2. Return a book\n",
      "3. View records\n",
      "4. Upload records\n",
      "5. Remove records\n",
      "6. Modify records\n",
      "7. Exit\n",
      "\n"
     ]
    },
    {
     "name": "stdin",
     "output_type": "stream",
     "text": [
      " 7\n"
     ]
    }
   ],
   "source": [
    "# 4. Upload records\n",
    "main()"
   ]
  },
  {
   "cell_type": "code",
   "execution_count": 40,
   "id": "00f13a66-c140-4182-8545-8abf74fd811e",
   "metadata": {},
   "outputs": [
    {
     "name": "stdout",
     "output_type": "stream",
     "text": [
      "Welcome to the Library management system\n",
      "\n",
      "Please choose an option from below menu:\n",
      "1. Issue a book\n",
      "2. Return a book\n",
      "3. View records\n",
      "4. Upload records\n",
      "5. Remove records\n",
      "6. Modify records\n",
      "7. Exit\n",
      "\n"
     ]
    },
    {
     "name": "stdin",
     "output_type": "stream",
     "text": [
      " 5\n"
     ]
    },
    {
     "name": "stdout",
     "output_type": "stream",
     "text": [
      "Please select a table :\n",
      "1. Books\n",
      "2. Reader\n"
     ]
    },
    {
     "name": "stdin",
     "output_type": "stream",
     "text": [
      " 1\n"
     ]
    },
    {
     "data": {
      "text/html": [
       "<div>\n",
       "<style scoped>\n",
       "    .dataframe tbody tr th:only-of-type {\n",
       "        vertical-align: middle;\n",
       "    }\n",
       "\n",
       "    .dataframe tbody tr th {\n",
       "        vertical-align: top;\n",
       "    }\n",
       "\n",
       "    .dataframe thead th {\n",
       "        text-align: right;\n",
       "    }\n",
       "</style>\n",
       "<table border=\"1\" class=\"dataframe\">\n",
       "  <thead>\n",
       "    <tr style=\"text-align: right;\">\n",
       "      <th></th>\n",
       "      <th>b_id</th>\n",
       "      <th>b_name</th>\n",
       "      <th>b_author</th>\n",
       "      <th>b_genre</th>\n",
       "      <th>b_availability</th>\n",
       "    </tr>\n",
       "  </thead>\n",
       "  <tbody>\n",
       "    <tr>\n",
       "      <th>0</th>\n",
       "      <td>1</td>\n",
       "      <td>Harry Potter and the Deathly Hallows</td>\n",
       "      <td>J. K. Rowling</td>\n",
       "      <td>Fantasy</td>\n",
       "      <td>Issued</td>\n",
       "    </tr>\n",
       "    <tr>\n",
       "      <th>1</th>\n",
       "      <td>2</td>\n",
       "      <td>Harry Potter and the Prisoner of Azkaban</td>\n",
       "      <td>J. K. Rowling</td>\n",
       "      <td>Fantasy</td>\n",
       "      <td>Issued</td>\n",
       "    </tr>\n",
       "    <tr>\n",
       "      <th>2</th>\n",
       "      <td>3</td>\n",
       "      <td>Harry Potter and the Philosophers Stone</td>\n",
       "      <td>J. K. Rowling</td>\n",
       "      <td>Fantasy</td>\n",
       "      <td>Available</td>\n",
       "    </tr>\n",
       "    <tr>\n",
       "      <th>3</th>\n",
       "      <td>4</td>\n",
       "      <td>Harry Potter and the Goblet of Fire</td>\n",
       "      <td>J. K. Rowling</td>\n",
       "      <td>Fantasy</td>\n",
       "      <td>Available</td>\n",
       "    </tr>\n",
       "    <tr>\n",
       "      <th>4</th>\n",
       "      <td>5</td>\n",
       "      <td>Blood of Elves</td>\n",
       "      <td>Andrzej Sapkowski</td>\n",
       "      <td>Fantasy</td>\n",
       "      <td>Issued</td>\n",
       "    </tr>\n",
       "    <tr>\n",
       "      <th>5</th>\n",
       "      <td>6</td>\n",
       "      <td>Time of Contempt</td>\n",
       "      <td>Andrzej Sapkowski</td>\n",
       "      <td>Fantasy</td>\n",
       "      <td>Available</td>\n",
       "    </tr>\n",
       "    <tr>\n",
       "      <th>6</th>\n",
       "      <td>7</td>\n",
       "      <td>Baptism of Fire</td>\n",
       "      <td>Andrzej Sapkowski</td>\n",
       "      <td>Fantasy</td>\n",
       "      <td>Available</td>\n",
       "    </tr>\n",
       "    <tr>\n",
       "      <th>7</th>\n",
       "      <td>8</td>\n",
       "      <td>The Tower of the Swallow</td>\n",
       "      <td>Andrzej Sapkowski</td>\n",
       "      <td>Fantasy</td>\n",
       "      <td>Issued</td>\n",
       "    </tr>\n",
       "    <tr>\n",
       "      <th>8</th>\n",
       "      <td>10</td>\n",
       "      <td>Thinking, Fast and Slow</td>\n",
       "      <td>Daniel Kahneman</td>\n",
       "      <td>Non-fiction</td>\n",
       "      <td>Available</td>\n",
       "    </tr>\n",
       "  </tbody>\n",
       "</table>\n",
       "</div>"
      ],
      "text/plain": [
       "   b_id                                    b_name           b_author  \\\n",
       "0     1      Harry Potter and the Deathly Hallows      J. K. Rowling   \n",
       "1     2  Harry Potter and the Prisoner of Azkaban      J. K. Rowling   \n",
       "2     3   Harry Potter and the Philosophers Stone      J. K. Rowling   \n",
       "3     4       Harry Potter and the Goblet of Fire      J. K. Rowling   \n",
       "4     5                            Blood of Elves  Andrzej Sapkowski   \n",
       "5     6                         Time of Contempt   Andrzej Sapkowski   \n",
       "6     7                          Baptism of Fire   Andrzej Sapkowski   \n",
       "7     8                  The Tower of the Swallow  Andrzej Sapkowski   \n",
       "8    10                   Thinking, Fast and Slow    Daniel Kahneman   \n",
       "\n",
       "       b_genre b_availability  \n",
       "0      Fantasy         Issued  \n",
       "1      Fantasy         Issued  \n",
       "2      Fantasy      Available  \n",
       "3      Fantasy      Available  \n",
       "4      Fantasy         Issued  \n",
       "5      Fantasy      Available  \n",
       "6      Fantasy      Available  \n",
       "7      Fantasy         Issued  \n",
       "8  Non-fiction      Available  "
      ]
     },
     "metadata": {},
     "output_type": "display_data"
    },
    {
     "name": "stdin",
     "output_type": "stream",
     "text": [
      "Enter book ID :  7\n"
     ]
    },
    {
     "name": "stdout",
     "output_type": "stream",
     "text": [
      "Book Successfully Deleted.\n",
      "\n",
      "Welcome to the Library management system\n",
      "\n",
      "Please choose an option from below menu:\n",
      "1. Issue a book\n",
      "2. Return a book\n",
      "3. View records\n",
      "4. Upload records\n",
      "5. Remove records\n",
      "6. Modify records\n",
      "7. Exit\n",
      "\n"
     ]
    },
    {
     "name": "stdin",
     "output_type": "stream",
     "text": [
      " 5\n"
     ]
    },
    {
     "name": "stdout",
     "output_type": "stream",
     "text": [
      "Please select a table :\n",
      "1. Books\n",
      "2. Reader\n"
     ]
    },
    {
     "name": "stdin",
     "output_type": "stream",
     "text": [
      " 1\n"
     ]
    },
    {
     "data": {
      "text/html": [
       "<div>\n",
       "<style scoped>\n",
       "    .dataframe tbody tr th:only-of-type {\n",
       "        vertical-align: middle;\n",
       "    }\n",
       "\n",
       "    .dataframe tbody tr th {\n",
       "        vertical-align: top;\n",
       "    }\n",
       "\n",
       "    .dataframe thead th {\n",
       "        text-align: right;\n",
       "    }\n",
       "</style>\n",
       "<table border=\"1\" class=\"dataframe\">\n",
       "  <thead>\n",
       "    <tr style=\"text-align: right;\">\n",
       "      <th></th>\n",
       "      <th>b_id</th>\n",
       "      <th>b_name</th>\n",
       "      <th>b_author</th>\n",
       "      <th>b_genre</th>\n",
       "      <th>b_availability</th>\n",
       "    </tr>\n",
       "  </thead>\n",
       "  <tbody>\n",
       "    <tr>\n",
       "      <th>0</th>\n",
       "      <td>1</td>\n",
       "      <td>Harry Potter and the Deathly Hallows</td>\n",
       "      <td>J. K. Rowling</td>\n",
       "      <td>Fantasy</td>\n",
       "      <td>Issued</td>\n",
       "    </tr>\n",
       "    <tr>\n",
       "      <th>1</th>\n",
       "      <td>2</td>\n",
       "      <td>Harry Potter and the Prisoner of Azkaban</td>\n",
       "      <td>J. K. Rowling</td>\n",
       "      <td>Fantasy</td>\n",
       "      <td>Issued</td>\n",
       "    </tr>\n",
       "    <tr>\n",
       "      <th>2</th>\n",
       "      <td>3</td>\n",
       "      <td>Harry Potter and the Philosophers Stone</td>\n",
       "      <td>J. K. Rowling</td>\n",
       "      <td>Fantasy</td>\n",
       "      <td>Available</td>\n",
       "    </tr>\n",
       "    <tr>\n",
       "      <th>3</th>\n",
       "      <td>4</td>\n",
       "      <td>Harry Potter and the Goblet of Fire</td>\n",
       "      <td>J. K. Rowling</td>\n",
       "      <td>Fantasy</td>\n",
       "      <td>Available</td>\n",
       "    </tr>\n",
       "    <tr>\n",
       "      <th>4</th>\n",
       "      <td>5</td>\n",
       "      <td>Blood of Elves</td>\n",
       "      <td>Andrzej Sapkowski</td>\n",
       "      <td>Fantasy</td>\n",
       "      <td>Issued</td>\n",
       "    </tr>\n",
       "    <tr>\n",
       "      <th>5</th>\n",
       "      <td>6</td>\n",
       "      <td>Time of Contempt</td>\n",
       "      <td>Andrzej Sapkowski</td>\n",
       "      <td>Fantasy</td>\n",
       "      <td>Available</td>\n",
       "    </tr>\n",
       "    <tr>\n",
       "      <th>6</th>\n",
       "      <td>8</td>\n",
       "      <td>The Tower of the Swallow</td>\n",
       "      <td>Andrzej Sapkowski</td>\n",
       "      <td>Fantasy</td>\n",
       "      <td>Issued</td>\n",
       "    </tr>\n",
       "    <tr>\n",
       "      <th>7</th>\n",
       "      <td>10</td>\n",
       "      <td>Thinking, Fast and Slow</td>\n",
       "      <td>Daniel Kahneman</td>\n",
       "      <td>Non-fiction</td>\n",
       "      <td>Available</td>\n",
       "    </tr>\n",
       "  </tbody>\n",
       "</table>\n",
       "</div>"
      ],
      "text/plain": [
       "   b_id                                    b_name           b_author  \\\n",
       "0     1      Harry Potter and the Deathly Hallows      J. K. Rowling   \n",
       "1     2  Harry Potter and the Prisoner of Azkaban      J. K. Rowling   \n",
       "2     3   Harry Potter and the Philosophers Stone      J. K. Rowling   \n",
       "3     4       Harry Potter and the Goblet of Fire      J. K. Rowling   \n",
       "4     5                            Blood of Elves  Andrzej Sapkowski   \n",
       "5     6                         Time of Contempt   Andrzej Sapkowski   \n",
       "6     8                  The Tower of the Swallow  Andrzej Sapkowski   \n",
       "7    10                   Thinking, Fast and Slow    Daniel Kahneman   \n",
       "\n",
       "       b_genre b_availability  \n",
       "0      Fantasy         Issued  \n",
       "1      Fantasy         Issued  \n",
       "2      Fantasy      Available  \n",
       "3      Fantasy      Available  \n",
       "4      Fantasy         Issued  \n",
       "5      Fantasy      Available  \n",
       "6      Fantasy         Issued  \n",
       "7  Non-fiction      Available  "
      ]
     },
     "metadata": {},
     "output_type": "display_data"
    },
    {
     "name": "stdin",
     "output_type": "stream",
     "text": [
      "Enter book ID :  8\n"
     ]
    },
    {
     "name": "stdout",
     "output_type": "stream",
     "text": [
      "Issued book cannot be removed.\n",
      "\n",
      "Welcome to the Library management system\n",
      "\n",
      "Please choose an option from below menu:\n",
      "1. Issue a book\n",
      "2. Return a book\n",
      "3. View records\n",
      "4. Upload records\n",
      "5. Remove records\n",
      "6. Modify records\n",
      "7. Exit\n",
      "\n"
     ]
    },
    {
     "name": "stdin",
     "output_type": "stream",
     "text": [
      " 7\n"
     ]
    }
   ],
   "source": [
    "# 5. Remove records\n",
    "main()"
   ]
  },
  {
   "cell_type": "code",
   "execution_count": 41,
   "id": "64666a2d-7478-458a-b409-3743b2ca01c8",
   "metadata": {},
   "outputs": [
    {
     "name": "stdout",
     "output_type": "stream",
     "text": [
      "Welcome to the Library management system\n",
      "\n",
      "Please choose an option from below menu:\n",
      "1. Issue a book\n",
      "2. Return a book\n",
      "3. View records\n",
      "4. Upload records\n",
      "5. Remove records\n",
      "6. Modify records\n",
      "7. Exit\n",
      "\n"
     ]
    },
    {
     "name": "stdin",
     "output_type": "stream",
     "text": [
      " 6\n"
     ]
    },
    {
     "name": "stdout",
     "output_type": "stream",
     "text": [
      "Please select a table :\n",
      "1. Books\n",
      "2. Reader\n"
     ]
    },
    {
     "name": "stdin",
     "output_type": "stream",
     "text": [
      " 2\n"
     ]
    },
    {
     "data": {
      "text/html": [
       "<div>\n",
       "<style scoped>\n",
       "    .dataframe tbody tr th:only-of-type {\n",
       "        vertical-align: middle;\n",
       "    }\n",
       "\n",
       "    .dataframe tbody tr th {\n",
       "        vertical-align: top;\n",
       "    }\n",
       "\n",
       "    .dataframe thead th {\n",
       "        text-align: right;\n",
       "    }\n",
       "</style>\n",
       "<table border=\"1\" class=\"dataframe\">\n",
       "  <thead>\n",
       "    <tr style=\"text-align: right;\">\n",
       "      <th></th>\n",
       "      <th>r_id</th>\n",
       "      <th>r_name</th>\n",
       "    </tr>\n",
       "  </thead>\n",
       "  <tbody>\n",
       "    <tr>\n",
       "      <th>0</th>\n",
       "      <td>1001</td>\n",
       "      <td>Arun</td>\n",
       "    </tr>\n",
       "    <tr>\n",
       "      <th>1</th>\n",
       "      <td>1002</td>\n",
       "      <td>Rick</td>\n",
       "    </tr>\n",
       "    <tr>\n",
       "      <th>2</th>\n",
       "      <td>1003</td>\n",
       "      <td>Beth</td>\n",
       "    </tr>\n",
       "    <tr>\n",
       "      <th>3</th>\n",
       "      <td>1004</td>\n",
       "      <td>Sidney</td>\n",
       "    </tr>\n",
       "  </tbody>\n",
       "</table>\n",
       "</div>"
      ],
      "text/plain": [
       "   r_id  r_name\n",
       "0  1001    Arun\n",
       "1  1002    Rick\n",
       "2  1003    Beth\n",
       "3  1004  Sidney"
      ]
     },
     "metadata": {},
     "output_type": "display_data"
    },
    {
     "name": "stdin",
     "output_type": "stream",
     "text": [
      "enter the reader id 1001\n",
      "Enter new name of the reader Arun Mozhi Devan\n"
     ]
    },
    {
     "name": "stdout",
     "output_type": "stream",
     "text": [
      "Reader Successfully modified.\n",
      "\n",
      "Welcome to the Library management system\n",
      "\n",
      "Please choose an option from below menu:\n",
      "1. Issue a book\n",
      "2. Return a book\n",
      "3. View records\n",
      "4. Upload records\n",
      "5. Remove records\n",
      "6. Modify records\n",
      "7. Exit\n",
      "\n"
     ]
    },
    {
     "name": "stdin",
     "output_type": "stream",
     "text": [
      " 3\n"
     ]
    },
    {
     "name": "stdout",
     "output_type": "stream",
     "text": [
      "Please select a table :\n",
      "1. Books\n",
      "2. Reader\n",
      "3. Book issue\n"
     ]
    },
    {
     "name": "stdin",
     "output_type": "stream",
     "text": [
      " 2\n"
     ]
    },
    {
     "name": "stdout",
     "output_type": "stream",
     "text": [
      "Table : reader\n"
     ]
    },
    {
     "data": {
      "text/html": [
       "<div>\n",
       "<style scoped>\n",
       "    .dataframe tbody tr th:only-of-type {\n",
       "        vertical-align: middle;\n",
       "    }\n",
       "\n",
       "    .dataframe tbody tr th {\n",
       "        vertical-align: top;\n",
       "    }\n",
       "\n",
       "    .dataframe thead th {\n",
       "        text-align: right;\n",
       "    }\n",
       "</style>\n",
       "<table border=\"1\" class=\"dataframe\">\n",
       "  <thead>\n",
       "    <tr style=\"text-align: right;\">\n",
       "      <th></th>\n",
       "      <th>r_id</th>\n",
       "      <th>r_name</th>\n",
       "    </tr>\n",
       "  </thead>\n",
       "  <tbody>\n",
       "    <tr>\n",
       "      <th>0</th>\n",
       "      <td>1001</td>\n",
       "      <td>Arun Mozhi Devan</td>\n",
       "    </tr>\n",
       "    <tr>\n",
       "      <th>1</th>\n",
       "      <td>1002</td>\n",
       "      <td>Rick</td>\n",
       "    </tr>\n",
       "    <tr>\n",
       "      <th>2</th>\n",
       "      <td>1003</td>\n",
       "      <td>Beth</td>\n",
       "    </tr>\n",
       "    <tr>\n",
       "      <th>3</th>\n",
       "      <td>1004</td>\n",
       "      <td>Sidney</td>\n",
       "    </tr>\n",
       "  </tbody>\n",
       "</table>\n",
       "</div>"
      ],
      "text/plain": [
       "   r_id            r_name\n",
       "0  1001  Arun Mozhi Devan\n",
       "1  1002              Rick\n",
       "2  1003              Beth\n",
       "3  1004            Sidney"
      ]
     },
     "metadata": {},
     "output_type": "display_data"
    },
    {
     "name": "stdout",
     "output_type": "stream",
     "text": [
      "Welcome to the Library management system\n",
      "\n",
      "Please choose an option from below menu:\n",
      "1. Issue a book\n",
      "2. Return a book\n",
      "3. View records\n",
      "4. Upload records\n",
      "5. Remove records\n",
      "6. Modify records\n",
      "7. Exit\n",
      "\n"
     ]
    },
    {
     "name": "stdin",
     "output_type": "stream",
     "text": [
      " 7\n"
     ]
    }
   ],
   "source": [
    "# 6. Modify records\n",
    "main()"
   ]
  },
  {
   "cell_type": "code",
   "execution_count": 42,
   "id": "d9a5acd7-173f-4328-8007-4dd11fee8364",
   "metadata": {},
   "outputs": [
    {
     "name": "stdout",
     "output_type": "stream",
     "text": [
      "Welcome to the Library management system\n",
      "\n",
      "Please choose an option from below menu:\n",
      "1. Issue a book\n",
      "2. Return a book\n",
      "3. View records\n",
      "4. Upload records\n",
      "5. Remove records\n",
      "6. Modify records\n",
      "7. Exit\n",
      "\n"
     ]
    },
    {
     "name": "stdin",
     "output_type": "stream",
     "text": [
      " 7\n"
     ]
    }
   ],
   "source": [
    "# 7. Exit\n",
    "main()"
   ]
  },
  {
   "cell_type": "markdown",
   "id": "a8ec5e88-1fd4-4f85-81b5-8c7eefb52262",
   "metadata": {},
   "source": [
    "## Creating a login page"
   ]
  },
  {
   "cell_type": "code",
   "execution_count": 22,
   "id": "79b43542-0e1d-4448-8f93-cf60bcceba24",
   "metadata": {},
   "outputs": [
    {
     "name": "stdin",
     "output_type": "stream",
     "text": [
      "Please enter the user name:  arun\n",
      "Please enter password:  ····\n"
     ]
    },
    {
     "name": "stdout",
     "output_type": "stream",
     "text": [
      "Welcome Arun!\n",
      "Welcome to the Library management system\n",
      "\n",
      "Please choose an option from below menu:\n",
      "1. Issue a book\n",
      "2. Return a book\n",
      "3. View records\n",
      "4. Upload records\n",
      "5. Remove records\n",
      "6. Modify records\n",
      "7. Exit\n",
      "\n"
     ]
    },
    {
     "name": "stdin",
     "output_type": "stream",
     "text": [
      " 3\n"
     ]
    },
    {
     "name": "stdout",
     "output_type": "stream",
     "text": [
      "Please select a table :\n",
      "1. Books\n",
      "2. Reader\n",
      "3. Book issue\n"
     ]
    },
    {
     "name": "stdin",
     "output_type": "stream",
     "text": [
      " 2\n"
     ]
    },
    {
     "name": "stdout",
     "output_type": "stream",
     "text": [
      "Table : reader\n"
     ]
    },
    {
     "data": {
      "text/html": [
       "<div>\n",
       "<style scoped>\n",
       "    .dataframe tbody tr th:only-of-type {\n",
       "        vertical-align: middle;\n",
       "    }\n",
       "\n",
       "    .dataframe tbody tr th {\n",
       "        vertical-align: top;\n",
       "    }\n",
       "\n",
       "    .dataframe thead th {\n",
       "        text-align: right;\n",
       "    }\n",
       "</style>\n",
       "<table border=\"1\" class=\"dataframe\">\n",
       "  <thead>\n",
       "    <tr style=\"text-align: right;\">\n",
       "      <th></th>\n",
       "      <th>r_id</th>\n",
       "      <th>r_name</th>\n",
       "    </tr>\n",
       "  </thead>\n",
       "  <tbody>\n",
       "    <tr>\n",
       "      <th>0</th>\n",
       "      <td>1001</td>\n",
       "      <td>Arun Mozhi Devan</td>\n",
       "    </tr>\n",
       "    <tr>\n",
       "      <th>1</th>\n",
       "      <td>1002</td>\n",
       "      <td>Rick</td>\n",
       "    </tr>\n",
       "    <tr>\n",
       "      <th>2</th>\n",
       "      <td>1003</td>\n",
       "      <td>Beth</td>\n",
       "    </tr>\n",
       "    <tr>\n",
       "      <th>3</th>\n",
       "      <td>1004</td>\n",
       "      <td>Sidney</td>\n",
       "    </tr>\n",
       "  </tbody>\n",
       "</table>\n",
       "</div>"
      ],
      "text/plain": [
       "   r_id            r_name\n",
       "0  1001  Arun Mozhi Devan\n",
       "1  1002              Rick\n",
       "2  1003              Beth\n",
       "3  1004            Sidney"
      ]
     },
     "metadata": {},
     "output_type": "display_data"
    },
    {
     "name": "stdout",
     "output_type": "stream",
     "text": [
      "Welcome to the Library management system\n",
      "\n",
      "Please choose an option from below menu:\n",
      "1. Issue a book\n",
      "2. Return a book\n",
      "3. View records\n",
      "4. Upload records\n",
      "5. Remove records\n",
      "6. Modify records\n",
      "7. Exit\n",
      "\n"
     ]
    },
    {
     "name": "stdin",
     "output_type": "stream",
     "text": [
      " 7\n"
     ]
    }
   ],
   "source": [
    "input_username = input('Please enter the user name: ').lower()\n",
    "if input_username in username:\n",
    "    pwd_ = hashlib.sha256(getpass('Please enter password: ').encode('utf-8')).hexdigest()\n",
    "    if pwd_ == username.get(input_username):\n",
    "        print(f'Welcome {input_username.capitalize()}!')\n",
    "        main()\n",
    "    else:\n",
    "        print('Wrong password')\n",
    "else:\n",
    "    print('User not found!')"
   ]
  },
  {
   "cell_type": "code",
   "execution_count": 23,
   "id": "5375ba91-3632-4ef9-9b9a-aa21de74d910",
   "metadata": {},
   "outputs": [
    {
     "name": "stdin",
     "output_type": "stream",
     "text": [
      "Please enter the user name:  tony\n"
     ]
    },
    {
     "name": "stdout",
     "output_type": "stream",
     "text": [
      "User not found!\n"
     ]
    }
   ],
   "source": [
    "input_username = input('Please enter the user name: ').lower()\n",
    "if input_username in username:\n",
    "    pwd_ = hashlib.sha256(getpass('Please enter password: ').encode('utf-8')).hexdigest()\n",
    "    if pwd_ == username.get(input_username):\n",
    "        print(f'Welcome {input_username.capitalize()}!')\n",
    "        main()\n",
    "    else:\n",
    "        print('Wrong password')\n",
    "else:\n",
    "    print('User not found!')"
   ]
  },
  {
   "cell_type": "markdown",
   "id": "48e081ca-958c-4013-b8cb-264a4c197b15",
   "metadata": {},
   "source": [
    "## References"
   ]
  },
  {
   "cell_type": "markdown",
   "id": "1955bb5f-f5be-4d7f-a0fb-87387a19ae7f",
   "metadata": {},
   "source": [
    "[Getpass](https://docs.python.org/3/library/getpass.html) - Prompt the user for a password without echoing.<br>\n",
    "[Hashlib](https://docs.python.org/3/library/hashlib.html#module-hashlib) - For generating python secure hash message.<br>\n",
    "[MySQL Connectors](https://www.mysql.com/products/connector/) - MySQL Connectors provide connectivity to the MySQL server for client programs.<br>\n",
    "[MySQL Error Exception](https://dev.mysql.com/doc/connector-python/en/connector-python-api-errors-error.html) - Error is internally used by Connector/Python to raise MySQL client.<br>\n",
    "[Pandas .read_sql_query](https://pandas.pydata.org/docs/reference/api/pandas.read_sql_query.html) - Returns a DataFrame corresponding to the result set of the query string.<br>"
   ]
  }
 ],
 "metadata": {
  "kernelspec": {
   "display_name": "Python 3",
   "language": "python",
   "name": "python3"
  },
  "language_info": {
   "codemirror_mode": {
    "name": "ipython",
    "version": 3
   },
   "file_extension": ".py",
   "mimetype": "text/x-python",
   "name": "python",
   "nbconvert_exporter": "python",
   "pygments_lexer": "ipython3",
   "version": "3.8.8"
  },
  "toc-autonumbering": true,
  "toc-showcode": true,
  "toc-showmarkdowntxt": false
 },
 "nbformat": 4,
 "nbformat_minor": 5
}
