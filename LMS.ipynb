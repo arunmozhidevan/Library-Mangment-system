{
 "cells": [
  {
   "cell_type": "markdown",
   "id": "0f64087d-c453-4ac8-a0af-e49b87876662",
   "metadata": {},
   "source": [
    "# Library Management system"
   ]
  },
  {
   "cell_type": "code",
   "execution_count": 39,
   "id": "5749262f-39cc-4573-9c0e-fc502db94325",
   "metadata": {},
   "outputs": [],
   "source": [
    "\"\"\"Importing mysql, pandas, auth\"\"\"\n",
    "from mysql import connector\n",
    "import pandas as pd\n",
    "import os\n",
    "import auth"
   ]
  },
  {
   "cell_type": "code",
   "execution_count": 36,
   "id": "2bc1092c-e3d0-41a0-8fdd-cf7c8e4ef5e3",
   "metadata": {},
   "outputs": [],
   "source": [
    "con = connector.connect(user=auth.user,password=auth.password,host=auth.host,database=auth.database)\n",
    "my_cursor = con.cursor()"
   ]
  },
  {
   "cell_type": "markdown",
   "id": "d458c7f8-440c-48c9-87f7-1b0e92d36538",
   "metadata": {},
   "source": [
    "## Issue and Return book\n"
   ]
  },
  {
   "cell_type": "code",
   "execution_count": 20,
   "id": "59136d19-afea-4441-b478-b9294963dc8b",
   "metadata": {},
   "outputs": [],
   "source": [
    "def issue_book():\n",
    "    \"\"\"issue book function  create the record to the table book_issue\n",
    "    and updates books table.\"\"\"\n",
    "    query_reader = pd.read_sql_query('select * from reader', con)\n",
    "    print('Table : reader')\n",
    "    display(query_reader)\n",
    "    print('Table : books')\n",
    "    display(pd.read_sql_query('select * from books', con))\n",
    "\n",
    "    user_id = int(input('Enter user ID : '))\n",
    "\n",
    "    if user_id in query_reader['r_id'].to_list():\n",
    "        book_id = input('Enter the book id : ')\n",
    "        if int(book_id) not in \\\n",
    "                pd.read_sql_query('select b_id from book_issue', con)['b_id'].to_list():\n",
    "            my_cursor.execute(f'INSERT INTO book_issue VALUES({user_id},{book_id});')\n",
    "            my_cursor.execute(f\"update books set b_availability = 'Issued' where b_id = {book_id};\")\n",
    "            con.commit()\n",
    "            print('Book Successfully updated.\\n')\n",
    "        else:\n",
    "            print('Book is not available for issue.\\n')\n",
    "    else:\n",
    "        print('User not found!\\n')"
   ]
  },
  {
   "cell_type": "code",
   "execution_count": 21,
   "id": "ae387022-1ccc-4872-8247-6bd013408f1e",
   "metadata": {},
   "outputs": [],
   "source": [
    "def return_book():\n",
    "    \"\"\"return book function returns the delete the record from the table book_issue\n",
    "    and updates books table.\"\"\"\n",
    "    print('Table : book_issue')\n",
    "    display(pd.read_sql_query('select * from book_issue', con))\n",
    "\n",
    "    user_id = int(input('Enter user ID : '))\n",
    "    if user_id not in pd.read_sql_query('select * from book_issue', con)['r_id'].to_list():\n",
    "        print('User ID is wrong.\\n')\n",
    "    else:\n",
    "        book_id = int(input('Enter the book id : '))\n",
    "        if book_id not in pd.read_sql_query('select * from book_issue', con)['b_id'].to_list():\n",
    "            print('Book ID is wrong.\\n')\n",
    "\n",
    "        else:\n",
    "            my_cursor.execute(f'DELETE from book_issue where b_id ={book_id} and r_id={user_id}')\n",
    "            my_cursor.execute(f'update books set b_availability = \\'Available\\' where b_id ={book_id}')\n",
    "            con.commit()\n",
    "            print('Book Successfully returned.\\n')"
   ]
  },
  {
   "cell_type": "markdown",
   "id": "9b129deb-1fb0-4e30-a75c-f4c2f89a70c3",
   "metadata": {},
   "source": [
    "## Viewing records of the tables"
   ]
  },
  {
   "cell_type": "code",
   "execution_count": 40,
   "id": "6772d704-d1f6-4b9a-a912-189c542f5aa0",
   "metadata": {},
   "outputs": [],
   "source": [
    "def table_books():\n",
    "    \"\"\"Views table books.\"\"\"\n",
    "    print('Table : books')\n",
    "    display(pd.read_sql_query('select * from books', con))\n",
    "    os.system('pause')"
   ]
  },
  {
   "cell_type": "code",
   "execution_count": 41,
   "id": "e20a8c08-fc9f-4be1-9a61-c869d1d873dd",
   "metadata": {},
   "outputs": [],
   "source": [
    "def table_reader():\n",
    "    \"\"\"Views table reader.\"\"\"\n",
    "    print('Table : reader')\n",
    "    display(pd.read_sql_query('select * from reader', con))\n",
    "    os.system('pause')"
   ]
  },
  {
   "cell_type": "code",
   "execution_count": 42,
   "id": "1598036f-46e1-4d7e-b3ed-3b65e5cfda61",
   "metadata": {},
   "outputs": [],
   "source": [
    "def table_book_issue():\n",
    "    \"\"\"Views table book_issue.\"\"\"\n",
    "    print('Table : book_issue')\n",
    "    display(pd.read_sql_query('select * from book_issue', con))\n",
    "    os.system('pause')"
   ]
  },
  {
   "cell_type": "markdown",
   "id": "25b3852c-e9ee-41e7-ae97-7f27652d220c",
   "metadata": {},
   "source": [
    "## Upload records in the table"
   ]
  },
  {
   "cell_type": "code",
   "execution_count": 25,
   "id": "dc7a0fa1-8f4e-4f4b-b6ae-a7c018789fe0",
   "metadata": {},
   "outputs": [],
   "source": [
    "def add_new_reader():\n",
    "    \"\"\"add new book reader adds new reader record to the tables reader.\"\"\"\n",
    "    display(pd.read_sql_query('select * from reader', con))\n",
    "    reader_id, reader_name = int(\n",
    "        pd.read_sql_query('''\n",
    "        select r_id from reader order by r_id desc limit 1\n",
    "        ''', con).values[0][0]) + 1, input(\n",
    "        'Enter name of the reader : ')\n",
    "    try:\n",
    "        my_cursor.execute(f'insert into reader values({reader_id},\\'{reader_name}\\');')\n",
    "        con.commit()\n",
    "        print(f'Successfully added the book {reader_name} to table reader.\\n')\n",
    "    except connector.Error as error:\n",
    "        print('Update failed!\\n')\n",
    "        print(f'Error : {error}')"
   ]
  },
  {
   "cell_type": "code",
   "execution_count": 26,
   "id": "e086be2c-4ef6-40e2-8d9b-7d253de369d1",
   "metadata": {},
   "outputs": [],
   "source": [
    "def add_new_book():\n",
    "    \"\"\"add new book function adds new book record to the tables book.\"\"\"\n",
    "    display(pd.read_sql_query('select * from books', con))\n",
    "    b_id = int(pd.read_sql_query('''\n",
    "    select b_id from books order by b_id desc limit 1\n",
    "    ''', con).values[0][0]) + 1\n",
    "    b_name = input('Enter the name of the book : ')\n",
    "    b_author = input('Enter the name of the Author : ')\n",
    "    b_genre = input('Enter the name of the Genre : ')\n",
    "    try:\n",
    "        my_cursor.execute(f\"insert into books values({b_id}, '{b_name}', '{b_author}', '{b_genre}', 'Available')\")\n",
    "        con.commit()\n",
    "        print(f'Successfully added {b_name} user to table reader.\\n')\n",
    "    except connector.Error as error:\n",
    "        print(f'Error : {error}')\n",
    "        print('Update failed!\\n')"
   ]
  },
  {
   "cell_type": "markdown",
   "id": "b38ca7b6-1656-44ad-851d-3faa24c612fb",
   "metadata": {},
   "source": [
    "## Modify records in the tables"
   ]
  },
  {
   "cell_type": "code",
   "execution_count": 27,
   "id": "c028a3c9-5c20-4319-8cd8-0601e1516be5",
   "metadata": {},
   "outputs": [],
   "source": [
    "def modify_reader():\n",
    "    \"\"\"modify reader function modifies the reader record from the tables reader.\"\"\"\n",
    "    display(pd.read_sql_query('select * from reader', con))\n",
    "    modify_readers = int(input('enter the reader id'))\n",
    "    if modify_readers not in pd.read_sql_query('select * from reader', con)['r_id'].to_list():\n",
    "        print('User ID is wrong.\\n')\n",
    "    else:\n",
    "        r_name = input('Enter new name of the reader')\n",
    "        my_cursor.execute(f\"update reader set r_name = '{r_name}'where r_id = {modify_readers};\")\n",
    "        con.commit()\n",
    "        print('Reader Successfully modified.\\n')"
   ]
  },
  {
   "cell_type": "code",
   "execution_count": 28,
   "id": "87681693-172b-4886-a603-375986d6b081",
   "metadata": {
    "tags": []
   },
   "outputs": [],
   "source": [
    "def modify_book():\n",
    "    \"\"\"modify book function modifies the book record from the tables book.\"\"\"\n",
    "    display(pd.read_sql_query('select * from books', con))\n",
    "    modify_books = int(input('enter the book id'))\n",
    "    if modify_books not in pd.read_sql_query('select * from books', con)['b_id'].to_list():\n",
    "        print('Book ID is wrong.\\n')\n",
    "    else:\n",
    "        b_name, b_author, b_genre = input(\n",
    "            'Enter new name of the book'), input(\n",
    "            'Enter new Author name of the book'), input(\n",
    "            'Enter new Genre of the book')\n",
    "        my_cursor.execute(\n",
    "            f'''\n",
    "            update books \n",
    "            set b_name = '{b_name}', \n",
    "            b_author = '{b_author}', \n",
    "            b_genre = '{b_genre}' \n",
    "            where b_id = {modify_books};\n",
    "            ''')\n",
    "        con.commit()\n",
    "        print('Book Successfully modified.\\n')"
   ]
  },
  {
   "cell_type": "markdown",
   "id": "e5a8d7b6-33f9-4392-99e7-599c53549dab",
   "metadata": {},
   "source": [
    "## Remove records from tables"
   ]
  },
  {
   "cell_type": "code",
   "execution_count": 29,
   "id": "7c07d266-b209-4875-985a-42da494bb74d",
   "metadata": {},
   "outputs": [],
   "source": [
    "def remove_book():\n",
    "    \"\"\"remove book function removes the book record from the tables book.\"\"\"\n",
    "    display(pd.read_sql_query('select * from books', con))\n",
    "\n",
    "    user_id = int(input('Enter user ID : '))\n",
    "\n",
    "    if user_id not in pd.read_sql_query('select * from book_issue', con)['r_id'].to_list():\n",
    "        print('User ID is wrong.\\n')\n",
    "    else:\n",
    "        remove_books: int = int(input('enter the book id'))\n",
    "        if remove_books not in pd.read_sql_query('select * from books', con)['b_id'].to_list():\n",
    "            print('Book ID is wrong.\\n')\n",
    "        else:\n",
    "            query = pd.read_sql_query(f'select * from books where b_id = {remove_books}', con)\n",
    "            if (query['b_availability'] == 'Issued')[0]:\n",
    "                print('Issued book cannot be removed.\\n')\n",
    "            else:\n",
    "                my_cursor.execute(f'delete from books where b_id = {remove_books}')\n",
    "                con.commit()\n",
    "                print('Book Successfully Deleted.\\n')"
   ]
  },
  {
   "cell_type": "code",
   "execution_count": 30,
   "id": "e98c8a82-fe53-4a50-9e91-3843d55ac891",
   "metadata": {},
   "outputs": [],
   "source": [
    "def remove_reader():\n",
    "    \"\"\"remove reader function removes the reader record from the tables reader.\"\"\"\n",
    "    display(pd.read_sql_query('select * from reader', con))\n",
    "    remove_user = int(input('enter the user id'))\n",
    "    if remove_user not in pd.read_sql_query('select * from reader', con)['r_id'].to_list():\n",
    "        print('User ID is wrong.\\n')\n",
    "    elif remove_user in pd.read_sql_query('select r_id from book_issue', con)['r_id'].to_list():\n",
    "        print('User cannot be removed before returning the book.\\n')\n",
    "    else:\n",
    "        my_cursor.execute(f'delete from reader where r_id = {remove_user}')\n",
    "        con.commit()\n",
    "        print('User Successfully Deleted.\\n')"
   ]
  },
  {
   "cell_type": "markdown",
   "id": "3b0ea7b6-85de-4d07-b6a3-c83e80a14212",
   "metadata": {},
   "source": [
    "## Main program"
   ]
  },
  {
   "cell_type": "code",
   "execution_count": 31,
   "id": "106b54c3-45b0-4159-b516-bd8f3cff7ded",
   "metadata": {},
   "outputs": [],
   "source": [
    "def select_table(fn1, fn2, fn3=None):\n",
    "    \"\"\"Select function use to get the tables names.\"\"\"\n",
    "    print([\n",
    "              'Please select a table :\\n1. Books\\n2. Reader' \\\n",
    "                  if fn3 is None else 'Please select a table :\\n1. Books\\n2. Reader\\n3. Book issue'][0])\n",
    "    user_input_remove = input()\n",
    "    if user_input_remove == '1':\n",
    "        fn1()\n",
    "    elif user_input_remove == '2':\n",
    "        fn2()\n",
    "    elif user_input_remove == '3':\n",
    "        fn3()\n",
    "    else:\n",
    "        print('Wrong option!.\\n')"
   ]
  },
  {
   "cell_type": "code",
   "execution_count": 46,
   "id": "9835c0fa-8a6d-4afa-aade-da54db9f9914",
   "metadata": {},
   "outputs": [],
   "source": [
    "def main():\n",
    "    USER_INPUT = None\n",
    "    while True:\n",
    "        print('Welcome to the Library management system')\n",
    "        print(\n",
    "            '''\\nPlease choose an option from below menu:\\n1. Issue a book\\n2. Return a book\\n3. View records\\n4. Upload records\\n5. Remove records\\n6. Modify records\\n7. Exit\\n''')\n",
    "\n",
    "        try:\n",
    "            USER_INPUT = int(input())\n",
    "        except connector.Error as e:\n",
    "            print('Entered input is not a number please try again.\\n')\n",
    "            print(f'Error : {e}')\n",
    "\n",
    "        # Issue a book\n",
    "        if USER_INPUT == 1:\n",
    "            issue_book()\n",
    "        # Return a book\n",
    "        elif USER_INPUT == 2:\n",
    "            return_book()\n",
    "        # View records\n",
    "        elif USER_INPUT == 3:\n",
    "            select_table(table_books, table_reader, table_book_issue)\n",
    "        #  Update records\n",
    "        elif USER_INPUT == 4:\n",
    "            select_table(add_new_book, add_new_reader)\n",
    "        # Remove records\n",
    "        elif USER_INPUT == 5:\n",
    "            select_table(remove_book, remove_reader)\n",
    "        # modify records\n",
    "        elif USER_INPUT == 6:\n",
    "            select_table(modify_book, modify_reader)\n",
    "        # exit\n",
    "        elif USER_INPUT == 7:\n",
    "            con.close()\n",
    "            break"
   ]
  },
  {
   "cell_type": "code",
   "execution_count": null,
   "id": "15be1f3a-f7b5-4dc6-b3ec-d38c69dad49e",
   "metadata": {},
   "outputs": [],
   "source": [
    "# main()"
   ]
  },
  {
   "cell_type": "markdown",
   "id": "48e081ca-958c-4013-b8cb-264a4c197b15",
   "metadata": {},
   "source": [
    "## References"
   ]
  },
  {
   "cell_type": "markdown",
   "id": "1955bb5f-f5be-4d7f-a0fb-87387a19ae7f",
   "metadata": {},
   "source": [
    "[MySQL Connectors](https://www.mysql.com/products/connector/)<br>\n",
    "[MySQL Error Exception](https://dev.mysql.com/doc/connector-python/en/connector-python-api-errors-error.html)<br>\n",
    "[Pandas .read_sql_query](https://pandas.pydata.org/docs/reference/api/pandas.read_sql_query.html)"
   ]
  }
 ],
 "metadata": {
  "kernelspec": {
   "display_name": "Python 3",
   "language": "python",
   "name": "python3"
  },
  "language_info": {
   "codemirror_mode": {
    "name": "ipython",
    "version": 3
   },
   "file_extension": ".py",
   "mimetype": "text/x-python",
   "name": "python",
   "nbconvert_exporter": "python",
   "pygments_lexer": "ipython3",
   "version": "3.8.8"
  },
  "toc-autonumbering": false,
  "toc-showcode": false,
  "toc-showmarkdowntxt": false
 },
 "nbformat": 4,
 "nbformat_minor": 5
}
